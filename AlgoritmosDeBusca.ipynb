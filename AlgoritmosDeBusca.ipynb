{
 "metadata": {
  "language_info": {
   "codemirror_mode": {
    "name": "ipython",
    "version": 3
   },
   "file_extension": ".py",
   "mimetype": "text/x-python",
   "name": "python",
   "nbconvert_exporter": "python",
   "pygments_lexer": "ipython3",
   "version": "3.8.5"
  },
  "orig_nbformat": 2,
  "kernelspec": {
   "name": "python3",
   "display_name": "Python 3",
   "language": "python"
  }
 },
 "nbformat": 4,
 "nbformat_minor": 2,
 "cells": [
  {
   "source": [
    "# Problemas de Busca em IA\n",
    "\n",
    "O campo de estudo da Inteligência Artificial (IA) fica cada vez mais famoso a cada notícia que aborda o tema. Tarefas incríveis sendo realizadas por máquinas que antes eram apenas fruto da nossa imaginação.\n",
    "\n",
    "Entretanto, é sempre bom atentarmos para os fundamentos. Um deles é o fato de que esses sistemas ou agentes inteligentes em algum momento passam por um processo de busca de uma solução dentro de um espaço de estados ou valores, tal busca sendo performada por algoritmos próprios.\n",
    "\n",
    "A diversidade destes algoritmos é enorme. Mas como estamos falando de fundamentos, vejamos alguns que são fundamentais. São eles os algoritmos de:\n",
    "- Busca em Largura;\n",
    "- Busca em Profundidade;\n",
    "- Busca Gulosa.\n",
    "\n",
    "Os dois primeiros fazem parte de uma categoria chamada \"busca cega\", pois ela acontece sem nenhuma informação sobre o problema. A última por sua vez está na categoria de \"busca heurística\", pois leva em consideração alguma informação, diferente da busca cega.\n",
    "\n",
    "Para aplicar os algoritmos, vamos abordar um problema real: a solução do quebra-cabeça de 8 peças.\n",
    "\n",
    "## Quebra-Cabeça de 8 Peças\n",
    "\n",
    "Um quebra-cabeça de 8 peças é um jogo comum como ilustrado na figura abaixo:\n",
    "\n",
    "![quebra-cabeca.png](quebra-cabeca.png)\n",
    "\n",
    "A partir de um estado inicial, o objetivo é alcançar outro com o mínimo de movimentos possível. Inclusive, para esta exemplificação, os estados inicial e final desejados serão estes:\n",
    "\n",
    "![estados.png](estados.png)\n",
    "\n",
    "Vamos ao código!\n",
    "\n",
    "## Implementação\n",
    "\n",
    "A seguir, vejamos como modelar este problema e sua solução para os 3 algoritmos de busca citados, sendo que as heurísticas para a busca gulosa serão:\n",
    "- Número de peças fora do lugar;\n",
    "- Distância Manhattan entre as peças.\n",
    "\n",
    "### Importação de Bibliotecas\n",
    "\n",
    "Para este código, vamos precisar somente das seguintes bibliotecas:"
   ],
   "cell_type": "markdown",
   "metadata": {}
  },
  {
   "cell_type": "code",
   "execution_count": 1,
   "metadata": {},
   "outputs": [],
   "source": [
    "import time\n",
    "from collections import deque"
   ]
  },
  {
   "source": [
    "### Representação do Problema\n",
    "\n",
    "Uma das grandes dificuldades de solucionar problemas da vida real de forma computacional é como fazer uma boa representação do problema. \n",
    "\n",
    "Vamos começar tratando sobre como representar cada estado do tabuleiro.\n",
    "\n",
    "Uma forma inteligente é usar um vetor de 9 posições, onde cada posição é uma peça do tabuleiro, imaginando que a cada 3 peças aconteça uma quebra de linha.\n",
    "\n",
    "Por exemplo, os estados inicial e final poderiam ser escritos como:"
   ],
   "cell_type": "markdown",
   "metadata": {}
  },
  {
   "cell_type": "code",
   "execution_count": 2,
   "metadata": {},
   "outputs": [],
   "source": [
    "estado_inicial = [0, 1, 2, 7, 8, 3, 6, 5, 4]\n",
    "solucao_desejada = [1, 2, 3, 8, 0, 4, 7, 6, 5]"
   ]
  },
  {
   "source": [
    "Além disso, vamos precisar de algumas outras variáveis globais para que o código funcione:\n",
    "- `vertice_solucao`: armazena o estado final com a solução do problema;\n",
    "- `total_pecas_quebra_cabeca`: acho que o nome é autoexplicativo;\n",
    "- `tamanho_lado_quebra_cabeca`: ou seja, se tratando de um tabuleiro quadrangular, é a raiz quadrada do total de peças do quebra-cabeça;\n",
    "- `total_vertices_visitados`: por quantos nós passou o algoritmo até encontrar uma solução;\n",
    "- `profundidade_maxima`: o quão profundo chegou na árvore de busca;\n",
    "- `largura_maxima`: similar, mas referente à largura."
   ],
   "cell_type": "markdown",
   "metadata": {}
  },
  {
   "cell_type": "code",
   "execution_count": 3,
   "metadata": {},
   "outputs": [],
   "source": [
    "total_pecas_quebra_cabeca = len(estado_inicial)\n",
    "tamanho_lado_quebra_cabeca = int(total_pecas_quebra_cabeca ** 0.5)\n",
    "total_vertices_visitados = 0\n",
    "profundidade_maxima = 0\n",
    "largura_maxima = 0"
   ]
  },
  {
   "source": [
    "Agora, vamos definir uma classe que representa um possível estado do quebra-cabeça."
   ],
   "cell_type": "markdown",
   "metadata": {}
  },
  {
   "cell_type": "code",
   "execution_count": 4,
   "metadata": {},
   "outputs": [],
   "source": [
    "class EstadoQuebraCabeca:\n",
    "    def __init__(self, estado, pai, movimento, profundidade, custo):\n",
    "        self.estado = estado\n",
    "        self.pai = pai\n",
    "        self.movimento = movimento\n",
    "        self.profundidade = profundidade\n",
    "        self.custo = custo\n",
    "        if self.estado:\n",
    "            self.mapeamento = \"\".join(str(numeroEstado)\n",
    "                                      for numeroEstado in self.estado)"
   ]
  },
  {
   "source": [
    "Nesta classe, temos variáveis para armazenar o estado atual em que está o quebra-cabeça (um vetor como definido anteriormente), quem é seu antecessor (\"pai\"), qual movimento anterior de peça que levou a essa configuração, o quão profundo ele está na árvore de busca e o custo para chegar até esse ponto.\n",
    "\n",
    "Agora, vamos definir uma função para simular um movimento de peça:"
   ],
   "cell_type": "markdown",
   "metadata": {}
  },
  {
   "cell_type": "code",
   "execution_count": 5,
   "metadata": {},
   "outputs": [],
   "source": [
    "def movimento(estado, direcao):\n",
    "    global tamanho_lado_quebra_cabeca, total_pecas_quebra_cabeca\n",
    "\n",
    "    novo_estado = estado[:]\n",
    "    indice = novo_estado.index(0)\n",
    "\n",
    "    # Para cima\n",
    "    if direcao == 1:\n",
    "        if indice not in range(0, tamanho_lado_quebra_cabeca):\n",
    "            temp = novo_estado[indice - tamanho_lado_quebra_cabeca]\n",
    "            novo_estado[indice -\n",
    "                        tamanho_lado_quebra_cabeca] = novo_estado[indice]\n",
    "            novo_estado[indice] = temp\n",
    "\n",
    "            return novo_estado\n",
    "        else:\n",
    "            return None\n",
    "\n",
    "    # Para baixo\n",
    "    if direcao == 2:\n",
    "        if indice not in range(\n",
    "            total_pecas_quebra_cabeca - tamanho_lado_quebra_cabeca, total_pecas_quebra_cabeca\n",
    "        ):\n",
    "\n",
    "            temp = novo_estado[indice + tamanho_lado_quebra_cabeca]\n",
    "            novo_estado[indice +\n",
    "                        tamanho_lado_quebra_cabeca] = novo_estado[indice]\n",
    "            novo_estado[indice] = temp\n",
    "\n",
    "            return novo_estado\n",
    "        else:\n",
    "            return None\n",
    "\n",
    "    # Para esquerda\n",
    "    if direcao == tamanho_lado_quebra_cabeca:\n",
    "        if indice not in range(0, total_pecas_quebra_cabeca, tamanho_lado_quebra_cabeca):\n",
    "            temp = novo_estado[indice - 1]\n",
    "            novo_estado[indice - 1] = novo_estado[indice]\n",
    "            novo_estado[indice] = temp\n",
    "\n",
    "            return novo_estado\n",
    "        else:\n",
    "            return None\n",
    "\n",
    "    # Para direita\n",
    "    if direcao == 4:\n",
    "        if indice not in range(\n",
    "            tamanho_lado_quebra_cabeca - 1, total_pecas_quebra_cabeca, tamanho_lado_quebra_cabeca\n",
    "        ):\n",
    "            temp = novo_estado[indice + 1]\n",
    "            novo_estado[indice + 1] = novo_estado[indice]\n",
    "            novo_estado[indice] = temp\n",
    "\n",
    "            return novo_estado\n",
    "        else:\n",
    "            return None"
   ]
  },
  {
   "source": [
    "É interessante ter em mente que, ao invés de pensar que uma peça está se movimento para um estado vazio (como é comum de se jogar), na verdade é o estado vazio que se move para o lugar de uma peça.\n",
    "\n",
    "Vale lembrar que nesta implementação, o espaço vazio do tabuleiro é representado por um 0.\n",
    "\n",
    "Pensando dessa forma, tem-se uma \"peça\" que sempre vai se mover, que na verdade é o próprio estado vazio.\n",
    "\n",
    "Portanto, vale apenas verificar se este está em alguma das extremidades do tabuleiro no momento de tentar um movimento. Se estiver, não é possível movê-lo; se não estiver, o movimento é possível.\n",
    "\n",
    "Agora, vamos implementar uma forma de expandir a árvore de busca e encontrar todos os próximos movimentos possíveis a partir de um determinado estado:"
   ],
   "cell_type": "markdown",
   "metadata": {}
  },
  {
   "cell_type": "code",
   "execution_count": 6,
   "metadata": {},
   "outputs": [],
   "source": [
    "def sub_vertices(vertice):\n",
    "    global total_vertices_visitados\n",
    "    total_vertices_visitados = total_vertices_visitados + 1\n",
    "\n",
    "    proximos_caminhos_possiveis = []\n",
    "    proximos_caminhos_possiveis.append(\n",
    "        EstadoQuebraCabeca(\n",
    "            movimento(vertice.estado, 1),\n",
    "            vertice,\n",
    "            1,\n",
    "            vertice.profundidade + 1,\n",
    "            vertice.custo + 1,\n",
    "        )\n",
    "    )\n",
    "    proximos_caminhos_possiveis.append(\n",
    "        EstadoQuebraCabeca(\n",
    "            movimento(vertice.estado, 2),\n",
    "            vertice,\n",
    "            2,\n",
    "            vertice.profundidade + 1,\n",
    "            vertice.custo + 1,\n",
    "        )\n",
    "    )\n",
    "    proximos_caminhos_possiveis.append(\n",
    "        EstadoQuebraCabeca(\n",
    "            movimento(vertice.estado, 3),\n",
    "            vertice,\n",
    "            3,\n",
    "            vertice.profundidade + 1,\n",
    "            vertice.custo + 1,\n",
    "        )\n",
    "    )\n",
    "    proximos_caminhos_possiveis.append(\n",
    "        EstadoQuebraCabeca(\n",
    "            movimento(vertice.estado, 4),\n",
    "            vertice,\n",
    "            4,\n",
    "            vertice.profundidade + 1,\n",
    "            vertice.custo + 1,\n",
    "        )\n",
    "    )\n",
    "    vertices = []\n",
    "    for caminhos_realmente_possiveis in proximos_caminhos_possiveis:\n",
    "        if caminhos_realmente_possiveis.estado != None:\n",
    "            vertices.append(caminhos_realmente_possiveis)\n",
    "\n",
    "    return vertices"
   ]
  },
  {
   "source": [
    "A ideia é simples: é só testar todos os quatro movimentos, ver quais são possíveis e retorná-los ao final.\n",
    "\n",
    "Com essas funções, já é possível realizar buscas, tendo o problema sido bem definido.\n",
    "\n",
    "### Busca em Largura\n",
    "\n",
    "O funcionamento de uma busca em largura pode se assimilar a uma implementação de fila (FIFO). Então, a partir de um estado inicial, busca-se o final respeitando a ordem de entrada e saída dos demais estados explorados nessa estrutura.\n",
    "\n",
    "Uma implementação possível é assim:"
   ],
   "cell_type": "markdown",
   "metadata": {}
  },
  {
   "cell_type": "code",
   "execution_count": 7,
   "metadata": {},
   "outputs": [],
   "source": [
    "def busca_largura(estado_inicial):\n",
    "    global largura_maxima, vertice_solucao, profundidade_maxima\n",
    "\n",
    "    fila = deque([EstadoQuebraCabeca(estado_inicial, None, None, 0, 0)])\n",
    "    vertice_visitado = set()\n",
    "\n",
    "    while fila:\n",
    "        vertice = fila.popleft()\n",
    "        vertice_visitado.add(vertice.mapeamento)\n",
    "        if vertice.estado == solucao_desejada:\n",
    "            vertice_solucao = vertice\n",
    "            return fila\n",
    "\n",
    "        caminhos_possiveis = sub_vertices(vertice)\n",
    "        for caminho in caminhos_possiveis:\n",
    "            if caminho.mapeamento not in vertice_visitado:\n",
    "                fila.append(caminho)\n",
    "                vertice_visitado.add(caminho.mapeamento)\n",
    "                if caminho.profundidade > profundidade_maxima:\n",
    "                    profundidade_maxima = profundidade_maxima + 1\n",
    "        if len(fila) > largura_maxima:\n",
    "            largura_maxima = len(fila)"
   ]
  },
  {
   "source": [
    "Ou seja, enquanto houver elementos na fila, o código é executado e os valores globais são atualizados, até que se encontre uma solução ou não haja mais elementos.\n",
    "\n",
    "### Busca em Profundidade\n",
    "\n",
    "Similar à lógica da busca em largura, a busca em profundidade só difere na estrutura de organização dos estados. Ao invés de usar uma fila, utiliza uma pilha (LIFO). Simples assim.\n",
    "\n",
    "Portanto, a implementação também é bem parecida."
   ],
   "cell_type": "markdown",
   "metadata": {}
  },
  {
   "cell_type": "code",
   "execution_count": 8,
   "metadata": {},
   "outputs": [],
   "source": [
    "def busca_profundidade(estado_inicial):\n",
    "    global largura_maxima, vertice_solucao, profundidade_maxima\n",
    "\n",
    "    vertice_visitado = set()\n",
    "    pilha = list([EstadoQuebraCabeca(estado_inicial, None, None, 0, 0)])\n",
    "\n",
    "    while pilha:\n",
    "        vertice = pilha.pop()\n",
    "        vertice_visitado.add(vertice.mapeamento)\n",
    "        if vertice.estado == solucao_desejada:\n",
    "            vertice_solucao = vertice\n",
    "            return pilha\n",
    "\n",
    "        caminhos_possiveis = sub_vertices(vertice)\n",
    "        for caminho in caminhos_possiveis:\n",
    "            if caminho.mapeamento not in vertice_visitado:\n",
    "                pilha.append(caminho)\n",
    "                vertice_visitado.add(caminho.mapeamento)\n",
    "                if caminho.profundidade > profundidade_maxima:\n",
    "                    profundidade_maxima = 1 + profundidade_maxima\n",
    "        if len(pilha) > largura_maxima:\n",
    "            largura_maxima = len(pilha)"
   ]
  },
  {
   "source": [
    "### Busca Gulosa\n",
    "\n",
    "Como dito anteriormente, a busca gulosa funciona levando em conta algum conhecimento sobre o problema e os estados atuais, sendo que aqui são consideradas duas heurísticas: número de peças fora do lugar e distância Manhattan.\n",
    "\n",
    "Para calcular o número de peças fora do lugar, pode fazer assim:"
   ],
   "cell_type": "markdown",
   "metadata": {}
  },
  {
   "cell_type": "code",
   "execution_count": 9,
   "metadata": {},
   "outputs": [],
   "source": [
    "def heuristica_pecas_fora_do_lugar(estado_atual, estado_desejado):\n",
    "    pecas_fora_do_lugar = 0\n",
    "\n",
    "    for i in range(len(estado_atual)):\n",
    "        pecas_fora_do_lugar += 1 if estado_atual[i] != estado_desejado[i] else 0\n",
    "\n",
    "    return pecas_fora_do_lugar"
   ]
  },
  {
   "source": [
    "É só comparar posição a posição dos dois vetores, de estado atual e desejado, e contabilizar a diferença.\n",
    "\n",
    "A distância Manhatann é um pouco mais complicada:"
   ],
   "cell_type": "markdown",
   "metadata": {}
  },
  {
   "cell_type": "code",
   "execution_count": 10,
   "metadata": {},
   "outputs": [],
   "source": [
    "def heuristica_manhattan(estado_atual, estado_desejado):\n",
    "    global tamanho_lado_quebra_cabeca, total_pecas_quebra_cabeca\n",
    "\n",
    "    distancia = sum(\n",
    "        abs(atual % tamanho_lado_quebra_cabeca - desejado %\n",
    "            tamanho_lado_quebra_cabeca)\n",
    "        + abs(atual // tamanho_lado_quebra_cabeca -\n",
    "              desejado // tamanho_lado_quebra_cabeca)\n",
    "        for atual, desejado in (\n",
    "            (estado_atual.index(i), estado_desejado.index(i))\n",
    "            for i in range(1, total_pecas_quebra_cabeca)\n",
    "        )\n",
    "    )\n",
    "\n",
    "    return distancia"
   ]
  },
  {
   "source": [
    "Pensando de maneira matricial, ou seja, nas posições das peças como se fosse em uma matriz, dá pra considerar a soma das diferenças dos módulos entre cada peça na posição atual e desejada com as diferenças dos restos das mesmas peças.\n",
    "\n",
    "Com isso, podemos implementar a busca gulosa:"
   ],
   "cell_type": "markdown",
   "metadata": {}
  },
  {
   "cell_type": "code",
   "execution_count": 11,
   "metadata": {},
   "outputs": [],
   "source": [
    "def ordena_por_prioridade(lista):\n",
    "    return lista[\"prioridade\"]\n",
    "\n",
    "def busca_gulosa(estado_inicial, heuristica):\n",
    "    global largura_maxima, vertice_solucao, profundidade_maxima\n",
    "\n",
    "    prioridade = (\n",
    "        heuristica_pecas_fora_do_lugar(estado_inicial, solucao_desejada)\n",
    "        if heuristica == \"1\"\n",
    "        else heuristica_manhattan(estado_inicial, solucao_desejada)\n",
    "    )\n",
    "\n",
    "    vertice_visitado = set()\n",
    "    lista_ordenada = [\n",
    "        {\n",
    "            \"prioridade\": prioridade,\n",
    "            \"estado\": EstadoQuebraCabeca(estado_inicial, None, None, 0, 0),\n",
    "        }\n",
    "    ]\n",
    "\n",
    "    lista_ordenada.sort(key=ordena_por_prioridade)\n",
    "\n",
    "    while lista_ordenada:\n",
    "        vertice = lista_ordenada.pop()\n",
    "        vertice_visitado.add(vertice[\"estado\"].mapeamento)\n",
    "        if vertice[\"estado\"].estado == solucao_desejada:\n",
    "            vertice_solucao = vertice[\"estado\"]\n",
    "            return lista_ordenada[:][-1]\n",
    "\n",
    "        caminhos_possiveis = sub_vertices(vertice[\"estado\"])\n",
    "\n",
    "        prioridades_caminhos_possiveis = [\n",
    "            heuristica_pecas_fora_do_lugar(\n",
    "                estado_atual.estado, solucao_desejada)\n",
    "            if heuristica == \"1\"\n",
    "            else heuristica_manhattan(estado_atual.estado, solucao_desejada)\n",
    "            for estado_atual in caminhos_possiveis\n",
    "        ]\n",
    "\n",
    "        caminhos_possiveis_ordenados = [\n",
    "            {\"prioridade\": prioridade, \"estado\": estado}\n",
    "            for prioridade, estado in zip(\n",
    "                prioridades_caminhos_possiveis, caminhos_possiveis\n",
    "            )\n",
    "        ]\n",
    "        caminhos_possiveis_ordenados.sort(key=ordena_por_prioridade)\n",
    "\n",
    "        for caminho in caminhos_possiveis_ordenados:\n",
    "            if caminho[\"estado\"].mapeamento not in vertice_visitado:\n",
    "                lista_ordenada.append(caminho)\n",
    "                vertice_visitado.add(caminho[\"estado\"].mapeamento)\n",
    "                if caminho[\"estado\"].profundidade > profundidade_maxima:\n",
    "                    profundidade_maxima = 1 + profundidade_maxima\n",
    "        if len(lista_ordenada) > largura_maxima:\n",
    "            largura_maxima = len(lista_ordenada)"
   ]
  },
  {
   "source": [
    "Se for ver bem, ela é similar às demais. É mais fácil pensar que os estados são colocados em uma lista ordenada de acordo com o cálculo da heurística, ou seja, os melhores candidatos são explorados primeiro. \n",
    "\n",
    "Vale lembrar que aqui o critério de desempate entre duas possibilidades de próximo estado com heurísticas iguais acontece lá na função de movimento, ou seja, tem a ordem definida por qual movimento acontece primeiro.\n",
    "\n",
    "A função `ordena_por_prioridade` é uma auxiliar pra fazer a ordenação de uma lista baseada em um argumento.\n",
    "\n",
    "E isso finaliza nossa implementação, falta apenas ver tudo rodando!\n",
    "\n",
    "## Execução\n",
    "\n",
    "Antes de sairmos rodando os algoritmos, vamos definir algumas funções úteis para nos dar os resultados.\n",
    "\n",
    "Uma função para imprimir o tabuleiro:"
   ],
   "cell_type": "markdown",
   "metadata": {}
  },
  {
   "cell_type": "code",
   "execution_count": 12,
   "metadata": {},
   "outputs": [],
   "source": [
    "def imprime_tabuleiro(estado_atual):\n",
    "    for linha in range(total_pecas_quebra_cabeca):\n",
    "        print(estado_atual[linha], sep=' ', end='', flush=True)\n",
    "        if linha % 3 == 2:\n",
    "            print('')"
   ]
  },
  {
   "source": [
    "E outra pra salvar a profunidade final, o estado final e todos os movimentos realizados até chegar na solução:"
   ],
   "cell_type": "markdown",
   "metadata": {}
  },
  {
   "cell_type": "code",
   "execution_count": 13,
   "metadata": {},
   "outputs": [],
   "source": [
    "def resultados():\n",
    "    global vertice_solucao\n",
    "    profundidade = vertice_solucao.profundidade\n",
    "    estado_final = vertice_solucao.estado\n",
    "    movimentos = []\n",
    "    while estado_inicial != vertice_solucao.estado:\n",
    "        if vertice_solucao.movimento == 1:\n",
    "            caminho = \"CIMA\"\n",
    "        if vertice_solucao.movimento == 2:\n",
    "            caminho = \"BAIXO\"\n",
    "        if vertice_solucao.movimento == 3:\n",
    "            caminho = \"ESQUERDA\"\n",
    "        if vertice_solucao.movimento == 4:\n",
    "            caminho = \"DIREITA\"\n",
    "        movimentos.insert(0, caminho)\n",
    "        vertice_solucao = vertice_solucao.pai\n",
    "\n",
    "    print(\"\\n\\nRESULTADO:\")\n",
    "    print(\"###########\")\n",
    "    print(\"Movimentos:\", movimentos)\n",
    "    print(\"A resolução tem \", len(movimentos), \" passos.\")\n",
    "    print(\"----------\")\n",
    "    print(\"Tabuleiro inicial:\")\n",
    "    imprime_tabuleiro(estado_inicial)\n",
    "    print(\"----------\")\n",
    "    print(\"Tabuleiro final:\")\n",
    "    imprime_tabuleiro(estado_final)\n",
    "    print(\"----------\")\n",
    "    print(\"Total de vértices visitados:\", str(total_vertices_visitados))\n",
    "    print(\"Profundidade da resposta:\", str(profundidade))\n",
    "    print(\"Profundidade máxima alcancada:\", str(profundidade_maxima))\n",
    "    print(\"Largura máxima alcancada:\", str(largura_maxima))\n"
   ]
  },
  {
   "source": [
    "Como já definimos os estados inicial e final (solução desejada) anteriormente, vamos executar cada busca para ver os resultados.\n",
    "\n",
    "Começando do começo, a busca em largura:"
   ],
   "cell_type": "markdown",
   "metadata": {}
  },
  {
   "cell_type": "code",
   "execution_count": 14,
   "metadata": {},
   "outputs": [
    {
     "output_type": "stream",
     "name": "stdout",
     "text": [
      "\n",
      "\n",
      "RESULTADO:\n",
      "###########\n",
      "Movimentos: ['DIREITA', 'DIREITA', 'BAIXO', 'BAIXO', 'ESQUERDA', 'ESQUERDA', 'CIMA', 'DIREITA']\n",
      "A resolução tem  8  passos.\n",
      "----------\n",
      "Tabuleiro inicial:\n",
      "012\n",
      "783\n",
      "654\n",
      "----------\n",
      "Tabuleiro final:\n",
      "123\n",
      "804\n",
      "765\n",
      "----------\n",
      "Total de vértices visitados: 257\n",
      "Profundidade da resposta: 8\n",
      "Profundidade máxima alcancada: 9\n",
      "Largura máxima alcancada: 143\n"
     ]
    }
   ],
   "source": [
    "busca_largura(estado_inicial)\n",
    "resultados()"
   ]
  },
  {
   "source": [
    "Uma boa solução!\n",
    "\n",
    "E agora, busca em profundidade:"
   ],
   "cell_type": "markdown",
   "metadata": {}
  },
  {
   "cell_type": "code",
   "execution_count": 15,
   "metadata": {},
   "outputs": [
    {
     "output_type": "stream",
     "name": "stdout",
     "text": [
      "\n",
      "\n",
      "RESULTADO:\n",
      "###########\n",
      "Movimentos: ['DIREITA', 'DIREITA', 'BAIXO', 'ESQUERDA', 'ESQUERDA', 'BAIXO', 'DIREITA', 'DIREITA', 'CIMA', 'ESQUERDA', 'ESQUERDA', 'BAIXO', 'DIREITA', 'DIREITA', 'CIMA', 'ESQUERDA', 'ESQUERDA', 'BAIXO', 'DIREITA', 'DIREITA', 'CIMA', 'ESQUERDA', 'ESQUERDA', 'BAIXO', 'DIREITA', 'DIREITA', 'CIMA', 'ESQUERDA']\n",
      "A resolução tem  28  passos.\n",
      "----------\n",
      "Tabuleiro inicial:\n",
      "012\n",
      "783\n",
      "654\n",
      "----------\n",
      "Tabuleiro final:\n",
      "123\n",
      "804\n",
      "765\n",
      "----------\n",
      "Total de vértices visitados: 285\n",
      "Profundidade da resposta: 28\n",
      "Profundidade máxima alcancada: 28\n",
      "Largura máxima alcancada: 143\n"
     ]
    }
   ],
   "source": [
    "busca_profundidade(estado_inicial)\n",
    "resultados()"
   ]
  },
  {
   "source": [
    "Nada mal!\n",
    "\n",
    "Agora, busca gulosa com heurística de peças fora do lugar:"
   ],
   "cell_type": "markdown",
   "metadata": {}
  },
  {
   "cell_type": "code",
   "execution_count": 16,
   "metadata": {
    "tags": [
     "outputPrepend"
    ]
   },
   "outputs": [
    {
     "output_type": "stream",
     "name": "stdout",
     "text": [
      " 'BAIXO', 'BAIXO', 'DIREITA', 'DIREITA', 'CIMA', 'CIMA', 'ESQUERDA', 'ESQUERDA', 'BAIXO', 'BAIXO', 'DIREITA', 'DIREITA', 'CIMA', 'CIMA', 'ESQUERDA', 'ESQUERDA', 'BAIXO', 'BAIXO', 'DIREITA', 'DIREITA', 'CIMA', 'ESQUERDA', 'ESQUERDA', 'CIMA', 'DIREITA', 'DIREITA', 'BAIXO', 'ESQUERDA', 'BAIXO', 'ESQUERDA', 'CIMA', 'CIMA', 'DIREITA', 'DIREITA', 'BAIXO', 'BAIXO', 'ESQUERDA', 'ESQUERDA', 'CIMA', 'CIMA', 'DIREITA', 'DIREITA', 'BAIXO', 'ESQUERDA', 'BAIXO', 'ESQUERDA', 'CIMA', 'CIMA', 'DIREITA', 'BAIXO', 'ESQUERDA', 'CIMA', 'DIREITA', 'DIREITA', 'BAIXO', 'BAIXO', 'ESQUERDA', 'ESQUERDA', 'CIMA', 'CIMA', 'DIREITA', 'DIREITA', 'BAIXO', 'BAIXO', 'ESQUERDA', 'ESQUERDA', 'CIMA', 'CIMA', 'DIREITA', 'DIREITA', 'BAIXO', 'BAIXO', 'ESQUERDA', 'ESQUERDA', 'CIMA', 'CIMA', 'DIREITA', 'DIREITA', 'BAIXO', 'BAIXO', 'ESQUERDA', 'ESQUERDA', 'CIMA', 'DIREITA', 'DIREITA', 'BAIXO', 'ESQUERDA', 'CIMA', 'DIREITA', 'BAIXO', 'ESQUERDA', 'ESQUERDA', 'CIMA', 'CIMA', 'DIREITA', 'BAIXO', 'DIREITA', 'BAIXO', 'ESQUERDA', 'ESQUERDA', 'CIMA', 'CIMA', 'DIREITA', 'BAIXO', 'BAIXO', 'ESQUERDA', 'CIMA', 'CIMA', 'DIREITA', 'DIREITA', 'BAIXO', 'BAIXO', 'ESQUERDA', 'ESQUERDA', 'CIMA', 'CIMA', 'DIREITA', 'DIREITA', 'BAIXO', 'BAIXO', 'ESQUERDA', 'ESQUERDA', 'CIMA', 'CIMA', 'DIREITA', 'DIREITA', 'BAIXO', 'BAIXO', 'ESQUERDA', 'ESQUERDA', 'CIMA', 'CIMA', 'DIREITA', 'DIREITA', 'BAIXO', 'BAIXO', 'ESQUERDA', 'ESQUERDA', 'CIMA', 'CIMA', 'DIREITA', 'DIREITA', 'BAIXO', 'BAIXO', 'ESQUERDA', 'CIMA', 'DIREITA', 'CIMA', 'ESQUERDA', 'ESQUERDA', 'BAIXO', 'BAIXO', 'DIREITA', 'DIREITA', 'CIMA', 'CIMA', 'ESQUERDA', 'ESQUERDA', 'BAIXO', 'BAIXO', 'DIREITA', 'DIREITA', 'CIMA', 'CIMA', 'ESQUERDA', 'ESQUERDA', 'BAIXO', 'DIREITA', 'DIREITA', 'BAIXO', 'ESQUERDA', 'ESQUERDA', 'CIMA', 'CIMA', 'DIREITA', 'DIREITA', 'BAIXO', 'BAIXO', 'ESQUERDA', 'CIMA', 'ESQUERDA', 'CIMA', 'DIREITA', 'DIREITA', 'BAIXO', 'BAIXO', 'ESQUERDA', 'ESQUERDA', 'CIMA', 'CIMA', 'DIREITA', 'DIREITA', 'BAIXO', 'ESQUERDA', 'BAIXO', 'ESQUERDA', 'CIMA', 'CIMA', 'DIREITA', 'DIREITA', 'BAIXO', 'BAIXO', 'ESQUERDA', 'ESQUERDA', 'CIMA', 'CIMA', 'DIREITA', 'DIREITA', 'BAIXO', 'BAIXO', 'ESQUERDA', 'ESQUERDA', 'CIMA', 'CIMA', 'DIREITA', 'DIREITA', 'BAIXO', 'BAIXO', 'ESQUERDA', 'ESQUERDA', 'CIMA', 'CIMA', 'DIREITA', 'DIREITA', 'BAIXO', 'BAIXO', 'ESQUERDA', 'CIMA', 'CIMA', 'DIREITA', 'BAIXO', 'BAIXO', 'ESQUERDA', 'ESQUERDA', 'CIMA', 'DIREITA', 'BAIXO', 'DIREITA', 'CIMA', 'CIMA', 'ESQUERDA', 'ESQUERDA', 'BAIXO', 'BAIXO', 'DIREITA', 'DIREITA', 'CIMA', 'ESQUERDA', 'ESQUERDA', 'BAIXO', 'DIREITA', 'DIREITA', 'CIMA', 'CIMA', 'ESQUERDA', 'ESQUERDA', 'BAIXO', 'BAIXO', 'DIREITA', 'DIREITA', 'CIMA', 'CIMA', 'ESQUERDA', 'BAIXO', 'BAIXO', 'ESQUERDA', 'CIMA', 'DIREITA', 'DIREITA', 'BAIXO', 'ESQUERDA', 'ESQUERDA', 'CIMA', 'DIREITA', 'BAIXO', 'ESQUERDA', 'CIMA', 'CIMA', 'DIREITA', 'DIREITA', 'BAIXO', 'BAIXO', 'ESQUERDA', 'ESQUERDA', 'CIMA', 'DIREITA', 'DIREITA', 'CIMA', 'ESQUERDA', 'ESQUERDA', 'BAIXO', 'BAIXO', 'DIREITA', 'DIREITA', 'CIMA', 'CIMA', 'ESQUERDA', 'ESQUERDA', 'BAIXO', 'DIREITA', 'BAIXO', 'DIREITA', 'CIMA', 'CIMA', 'ESQUERDA', 'ESQUERDA', 'BAIXO', 'BAIXO', 'DIREITA', 'DIREITA', 'CIMA', 'CIMA', 'ESQUERDA', 'ESQUERDA', 'BAIXO', 'BAIXO', 'DIREITA', 'DIREITA', 'CIMA', 'ESQUERDA', 'ESQUERDA', 'CIMA', 'DIREITA', 'DIREITA', 'BAIXO', 'BAIXO', 'ESQUERDA', 'CIMA', 'CIMA', 'ESQUERDA', 'BAIXO', 'BAIXO', 'DIREITA', 'DIREITA', 'CIMA', 'CIMA', 'ESQUERDA', 'ESQUERDA', 'BAIXO', 'BAIXO', 'DIREITA', 'DIREITA', 'CIMA', 'ESQUERDA', 'CIMA', 'ESQUERDA', 'BAIXO', 'DIREITA', 'BAIXO', 'DIREITA', 'CIMA', 'CIMA', 'ESQUERDA', 'ESQUERDA', 'BAIXO', 'BAIXO', 'DIREITA', 'CIMA', 'ESQUERDA', 'BAIXO', 'DIREITA', 'DIREITA', 'CIMA', 'CIMA', 'ESQUERDA', 'ESQUERDA', 'BAIXO', 'BAIXO', 'DIREITA', 'DIREITA', 'CIMA', 'CIMA', 'ESQUERDA', 'ESQUERDA', 'BAIXO', 'DIREITA', 'DIREITA', 'CIMA', 'ESQUERDA', 'ESQUERDA', 'BAIXO', 'BAIXO', 'DIREITA', 'DIREITA', 'CIMA', 'ESQUERDA', 'ESQUERDA', 'CIMA', 'DIREITA', 'DIREITA', 'BAIXO', 'BAIXO', 'ESQUERDA', 'ESQUERDA', 'CIMA', 'CIMA', 'DIREITA', 'DIREITA', 'BAIXO', 'BAIXO', 'ESQUERDA', 'ESQUERDA', 'CIMA', 'CIMA', 'DIREITA', 'DIREITA', 'BAIXO', 'ESQUERDA', 'CIMA', 'ESQUERDA', 'BAIXO', 'BAIXO', 'DIREITA', 'CIMA', 'DIREITA', 'BAIXO', 'ESQUERDA', 'ESQUERDA', 'CIMA', 'DIREITA', 'CIMA', 'DIREITA', 'BAIXO', 'BAIXO', 'ESQUERDA', 'ESQUERDA', 'CIMA', 'DIREITA', 'CIMA', 'ESQUERDA', 'BAIXO', 'BAIXO', 'DIREITA', 'DIREITA', 'CIMA', 'CIMA', 'ESQUERDA', 'ESQUERDA', 'BAIXO', 'BAIXO', 'DIREITA', 'DIREITA', 'CIMA', 'CIMA', 'ESQUERDA', 'ESQUERDA', 'BAIXO', 'BAIXO', 'DIREITA', 'DIREITA', 'CIMA', 'CIMA', 'ESQUERDA', 'BAIXO', 'ESQUERDA', 'BAIXO', 'DIREITA', 'CIMA', 'DIREITA', 'CIMA', 'ESQUERDA', 'ESQUERDA', 'BAIXO', 'BAIXO', 'DIREITA', 'CIMA', 'DIREITA', 'BAIXO', 'ESQUERDA', 'ESQUERDA', 'CIMA', 'CIMA', 'DIREITA', 'DIREITA', 'BAIXO', 'ESQUERDA', 'ESQUERDA', 'BAIXO', 'DIREITA', 'CIMA', 'DIREITA', 'BAIXO', 'ESQUERDA', 'CIMA', 'ESQUERDA', 'CIMA', 'DIREITA', 'BAIXO', 'BAIXO', 'DIREITA', 'CIMA', 'ESQUERDA', 'ESQUERDA', 'CIMA', 'DIREITA', 'BAIXO', 'ESQUERDA', 'BAIXO', 'DIREITA', 'DIREITA', 'CIMA', 'CIMA', 'ESQUERDA', 'ESQUERDA', 'BAIXO', 'BAIXO', 'DIREITA', 'DIREITA', 'CIMA', 'CIMA', 'ESQUERDA', 'ESQUERDA', 'BAIXO', 'BAIXO', 'DIREITA', 'DIREITA', 'CIMA', 'CIMA', 'ESQUERDA', 'ESQUERDA', 'BAIXO', 'BAIXO', 'DIREITA', 'DIREITA', 'CIMA', 'CIMA', 'ESQUERDA', 'ESQUERDA', 'BAIXO', 'BAIXO', 'DIREITA', 'DIREITA', 'CIMA', 'CIMA', 'ESQUERDA', 'BAIXO', 'DIREITA', 'BAIXO', 'ESQUERDA', 'ESQUERDA', 'CIMA', 'CIMA', 'DIREITA', 'DIREITA', 'BAIXO', 'BAIXO', 'ESQUERDA', 'ESQUERDA', 'CIMA', 'CIMA', 'DIREITA', 'DIREITA', 'BAIXO', 'BAIXO', 'ESQUERDA', 'ESQUERDA', 'CIMA', 'CIMA', 'DIREITA', 'DIREITA', 'BAIXO', 'ESQUERDA', 'CIMA', 'DIREITA', 'BAIXO', 'BAIXO', 'ESQUERDA', 'ESQUERDA', 'CIMA', 'CIMA', 'DIREITA', 'DIREITA', 'BAIXO', 'BAIXO', 'ESQUERDA', 'CIMA', 'DIREITA', 'BAIXO', 'ESQUERDA', 'ESQUERDA', 'CIMA', 'CIMA', 'DIREITA', 'BAIXO', 'ESQUERDA', 'CIMA', 'DIREITA', 'DIREITA', 'BAIXO', 'BAIXO', 'ESQUERDA', 'ESQUERDA', 'CIMA', 'CIMA', 'DIREITA', 'DIREITA', 'BAIXO', 'BAIXO', 'ESQUERDA', 'ESQUERDA', 'CIMA', 'DIREITA', 'DIREITA', 'CIMA', 'ESQUERDA', 'ESQUERDA', 'BAIXO', 'BAIXO', 'DIREITA', 'DIREITA', 'CIMA', 'CIMA', 'ESQUERDA', 'ESQUERDA', 'BAIXO', 'BAIXO', 'DIREITA', 'DIREITA', 'CIMA', 'CIMA', 'ESQUERDA', 'ESQUERDA', 'BAIXO', 'BAIXO', 'DIREITA', 'DIREITA', 'CIMA', 'CIMA', 'ESQUERDA', 'ESQUERDA', 'BAIXO', 'BAIXO', 'DIREITA', 'DIREITA', 'CIMA', 'CIMA', 'ESQUERDA', 'ESQUERDA', 'BAIXO', 'BAIXO', 'DIREITA', 'DIREITA', 'CIMA', 'CIMA', 'ESQUERDA', 'BAIXO', 'DIREITA', 'CIMA', 'ESQUERDA', 'ESQUERDA', 'BAIXO', 'BAIXO', 'DIREITA', 'CIMA', 'DIREITA', 'CIMA', 'ESQUERDA', 'ESQUERDA', 'BAIXO', 'DIREITA', 'BAIXO', 'DIREITA', 'CIMA', 'CIMA', 'ESQUERDA', 'BAIXO', 'ESQUERDA', 'BAIXO', 'DIREITA', 'DIREITA', 'CIMA', 'CIMA', 'ESQUERDA', 'BAIXO', 'DIREITA', 'BAIXO', 'ESQUERDA', 'ESQUERDA', 'CIMA', 'CIMA', 'DIREITA', 'BAIXO', 'ESQUERDA', 'BAIXO', 'DIREITA', 'DIREITA', 'CIMA', 'CIMA', 'ESQUERDA', 'ESQUERDA', 'BAIXO', 'BAIXO', 'DIREITA', 'DIREITA', 'CIMA', 'CIMA', 'ESQUERDA', 'ESQUERDA', 'BAIXO', 'BAIXO', 'DIREITA', 'DIREITA', 'CIMA', 'CIMA', 'ESQUERDA', 'ESQUERDA', 'BAIXO', 'BAIXO', 'DIREITA', 'DIREITA', 'CIMA', 'CIMA', 'ESQUERDA', 'ESQUERDA', 'BAIXO', 'BAIXO', 'DIREITA', 'DIREITA', 'CIMA', 'CIMA', 'ESQUERDA', 'ESQUERDA', 'BAIXO', 'BAIXO', 'DIREITA', 'CIMA', 'DIREITA', 'BAIXO', 'ESQUERDA', 'ESQUERDA', 'CIMA', 'CIMA', 'DIREITA', 'DIREITA', 'BAIXO', 'BAIXO', 'ESQUERDA', 'CIMA', 'ESQUERDA', 'BAIXO', 'DIREITA', 'DIREITA', 'CIMA', 'CIMA', 'ESQUERDA', 'ESQUERDA', 'BAIXO', 'BAIXO', 'DIREITA', 'CIMA', 'ESQUERDA', 'BAIXO', 'DIREITA', 'DIREITA', 'CIMA', 'ESQUERDA', 'CIMA', 'DIREITA', 'BAIXO', 'BAIXO', 'ESQUERDA', 'CIMA', 'ESQUERDA', 'BAIXO', 'DIREITA', 'DIREITA', 'CIMA', 'CIMA', 'ESQUERDA', 'ESQUERDA', 'BAIXO', 'BAIXO', 'DIREITA', 'DIREITA', 'CIMA', 'CIMA', 'ESQUERDA', 'ESQUERDA', 'BAIXO', 'BAIXO', 'DIREITA', 'DIREITA', 'CIMA', 'CIMA', 'ESQUERDA', 'ESQUERDA', 'BAIXO', 'BAIXO', 'DIREITA', 'DIREITA', 'CIMA', 'CIMA', 'ESQUERDA', 'ESQUERDA', 'BAIXO', 'BAIXO', 'DIREITA', 'DIREITA', 'CIMA', 'CIMA', 'ESQUERDA', 'ESQUERDA', 'BAIXO', 'DIREITA', 'DIREITA', 'BAIXO', 'ESQUERDA', 'ESQUERDA', 'CIMA', 'CIMA', 'DIREITA', 'DIREITA', 'BAIXO', 'BAIXO', 'ESQUERDA', 'CIMA', 'DIREITA', 'CIMA', 'ESQUERDA', 'ESQUERDA', 'BAIXO', 'BAIXO', 'DIREITA', 'DIREITA', 'CIMA', 'ESQUERDA', 'ESQUERDA', 'BAIXO', 'DIREITA', 'DIREITA', 'CIMA', 'CIMA', 'ESQUERDA', 'ESQUERDA', 'BAIXO', 'BAIXO', 'DIREITA', 'DIREITA', 'CIMA', 'CIMA', 'ESQUERDA', 'ESQUERDA', 'BAIXO', 'DIREITA', 'DIREITA', 'CIMA', 'ESQUERDA', 'ESQUERDA', 'BAIXO', 'DIREITA', 'DIREITA', 'BAIXO', 'ESQUERDA', 'ESQUERDA', 'CIMA', 'CIMA', 'DIREITA', 'DIREITA', 'BAIXO', 'ESQUERDA', 'BAIXO', 'DIREITA', 'CIMA', 'CIMA', 'ESQUERDA', 'BAIXO', 'ESQUERDA', 'BAIXO', 'DIREITA', 'DIREITA', 'CIMA', 'CIMA', 'ESQUERDA', 'ESQUERDA', 'BAIXO', 'BAIXO', 'DIREITA', 'DIREITA', 'CIMA', 'CIMA', 'ESQUERDA', 'BAIXO', 'BAIXO', 'DIREITA', 'CIMA', 'CIMA', 'ESQUERDA', 'ESQUERDA', 'BAIXO', 'DIREITA', 'DIREITA', 'BAIXO', 'ESQUERDA', 'ESQUERDA', 'CIMA', 'CIMA', 'DIREITA', 'DIREITA', 'BAIXO', 'BAIXO', 'ESQUERDA', 'ESQUERDA', 'CIMA', 'CIMA', 'DIREITA', 'DIREITA', 'BAIXO', 'BAIXO', 'ESQUERDA', 'CIMA', 'DIREITA', 'CIMA', 'ESQUERDA', 'BAIXO', 'ESQUERDA', 'BAIXO', 'DIREITA', 'DIREITA', 'CIMA', 'CIMA', 'ESQUERDA', 'BAIXO', 'BAIXO', 'DIREITA', 'CIMA', 'CIMA', 'ESQUERDA', 'ESQUERDA', 'BAIXO', 'BAIXO', 'DIREITA', 'DIREITA', 'CIMA', 'CIMA', 'ESQUERDA', 'BAIXO', 'DIREITA', 'BAIXO', 'ESQUERDA', 'ESQUERDA', 'CIMA', 'CIMA', 'DIREITA', 'DIREITA', 'BAIXO', 'BAIXO', 'ESQUERDA', 'ESQUERDA', 'CIMA', 'CIMA', 'DIREITA', 'BAIXO', 'BAIXO', 'ESQUERDA', 'CIMA', 'CIMA', 'DIREITA', 'DIREITA', 'BAIXO', 'BAIXO', 'ESQUERDA', 'CIMA', 'ESQUERDA', 'BAIXO', 'DIREITA', 'DIREITA', 'CIMA', 'CIMA', 'ESQUERDA', 'BAIXO', 'BAIXO', 'DIREITA', 'CIMA', 'CIMA', 'ESQUERDA', 'ESQUERDA', 'BAIXO', 'BAIXO', 'DIREITA', 'CIMA', 'ESQUERDA', 'CIMA', 'DIREITA', 'DIREITA', 'BAIXO', 'BAIXO', 'ESQUERDA', 'ESQUERDA', 'CIMA', 'CIMA', 'DIREITA', 'DIREITA', 'BAIXO', 'ESQUERDA', 'ESQUERDA', 'BAIXO', 'DIREITA', 'CIMA', 'CIMA', 'DIREITA', 'BAIXO', 'ESQUERDA', 'ESQUERDA', 'BAIXO', 'DIREITA', 'DIREITA', 'CIMA', 'CIMA', 'ESQUERDA', 'ESQUERDA', 'BAIXO', 'DIREITA', 'CIMA', 'ESQUERDA', 'BAIXO', 'DIREITA', 'DIREITA', 'BAIXO', 'ESQUERDA', 'CIMA', 'CIMA', 'ESQUERDA', 'BAIXO', 'BAIXO', 'DIREITA', 'DIREITA', 'CIMA', 'ESQUERDA', 'ESQUERDA', 'BAIXO', 'DIREITA', 'DIREITA', 'CIMA', 'CIMA', 'ESQUERDA', 'ESQUERDA', 'BAIXO', 'BAIXO', 'DIREITA', 'DIREITA', 'CIMA', 'CIMA', 'ESQUERDA', 'ESQUERDA', 'BAIXO', 'BAIXO', 'DIREITA', 'DIREITA', 'CIMA', 'CIMA', 'ESQUERDA', 'ESQUERDA', 'BAIXO', 'BAIXO', 'DIREITA', 'DIREITA', 'CIMA', 'CIMA', 'ESQUERDA', 'ESQUERDA', 'BAIXO', 'BAIXO', 'DIREITA', 'DIREITA', 'CIMA', 'CIMA', 'ESQUERDA', 'ESQUERDA', 'BAIXO', 'BAIXO', 'DIREITA', 'DIREITA', 'CIMA', 'CIMA', 'ESQUERDA', 'BAIXO', 'BAIXO', 'DIREITA', 'CIMA', 'CIMA', 'ESQUERDA', 'BAIXO', 'ESQUERDA', 'BAIXO', 'DIREITA', 'CIMA', 'ESQUERDA', 'BAIXO', 'DIREITA', 'DIREITA', 'CIMA', 'ESQUERDA', 'ESQUERDA', 'CIMA', 'DIREITA', 'DIREITA', 'BAIXO', 'BAIXO', 'ESQUERDA', 'ESQUERDA', 'CIMA', 'CIMA', 'DIREITA', 'DIREITA', 'BAIXO', 'BAIXO', 'ESQUERDA', 'CIMA', 'DIREITA', 'CIMA', 'ESQUERDA', 'ESQUERDA', 'BAIXO', 'BAIXO', 'DIREITA', 'DIREITA', 'CIMA', 'ESQUERDA', 'BAIXO', 'DIREITA', 'CIMA', 'CIMA', 'ESQUERDA', 'ESQUERDA', 'BAIXO', 'BAIXO', 'DIREITA', 'DIREITA', 'CIMA', 'CIMA', 'ESQUERDA', 'ESQUERDA', 'BAIXO', 'BAIXO', 'DIREITA', 'DIREITA', 'CIMA', 'CIMA', 'ESQUERDA', 'ESQUERDA', 'BAIXO', 'BAIXO', 'DIREITA', 'DIREITA', 'CIMA', 'CIMA', 'ESQUERDA', 'ESQUERDA', 'BAIXO', 'BAIXO', 'DIREITA', 'DIREITA', 'CIMA', 'CIMA', 'ESQUERDA', 'ESQUERDA', 'BAIXO', 'BAIXO', 'DIREITA', 'DIREITA', 'CIMA', 'CIMA', 'ESQUERDA', 'ESQUERDA', 'BAIXO', 'BAIXO', 'DIREITA', 'DIREITA', 'CIMA', 'CIMA', 'ESQUERDA', 'ESQUERDA', 'BAIXO', 'DIREITA', 'DIREITA', 'BAIXO', 'ESQUERDA', 'ESQUERDA', 'CIMA', 'DIREITA', 'CIMA', 'DIREITA', 'BAIXO', 'BAIXO', 'ESQUERDA', 'CIMA', 'DIREITA', 'CIMA', 'ESQUERDA', 'ESQUERDA', 'BAIXO', 'BAIXO', 'DIREITA', 'DIREITA', 'CIMA', 'CIMA', 'ESQUERDA', 'ESQUERDA', 'BAIXO', 'BAIXO', 'DIREITA', 'DIREITA', 'CIMA', 'CIMA', 'ESQUERDA', 'BAIXO', 'BAIXO', 'ESQUERDA', 'CIMA', 'CIMA', 'DIREITA', 'DIREITA', 'BAIXO', 'BAIXO', 'ESQUERDA', 'ESQUERDA', 'CIMA', 'CIMA', 'DIREITA', 'DIREITA', 'BAIXO', 'BAIXO', 'ESQUERDA', 'ESQUERDA', 'CIMA', 'CIMA', 'DIREITA', 'DIREITA', 'BAIXO', 'BAIXO', 'ESQUERDA', 'ESQUERDA', 'CIMA', 'DIREITA', 'DIREITA', 'BAIXO', 'ESQUERDA', 'ESQUERDA', 'CIMA', 'CIMA', 'DIREITA', 'DIREITA', 'BAIXO', 'BAIXO', 'ESQUERDA', 'ESQUERDA', 'CIMA', 'CIMA', 'DIREITA', 'BAIXO', 'ESQUERDA', 'BAIXO', 'DIREITA', 'DIREITA', 'CIMA', 'CIMA', 'ESQUERDA', 'ESQUERDA', 'BAIXO', 'DIREITA', 'BAIXO', 'DIREITA', 'CIMA', 'CIMA', 'ESQUERDA', 'BAIXO', 'BAIXO', 'ESQUERDA', 'CIMA', 'DIREITA', 'CIMA', 'ESQUERDA', 'BAIXO', 'BAIXO', 'DIREITA', 'DIREITA', 'CIMA', 'CIMA', 'ESQUERDA', 'ESQUERDA', 'BAIXO', 'BAIXO', 'DIREITA', 'DIREITA', 'CIMA', 'ESQUERDA', 'ESQUERDA', 'CIMA', 'DIREITA', 'BAIXO', 'DIREITA', 'BAIXO', 'ESQUERDA', 'CIMA', 'ESQUERDA', 'BAIXO', 'DIREITA', 'DIREITA', 'CIMA', 'CIMA', 'ESQUERDA', 'BAIXO', 'ESQUERDA', 'BAIXO', 'DIREITA', 'DIREITA', 'CIMA', 'CIMA', 'ESQUERDA', 'ESQUERDA', 'BAIXO', 'BAIXO', 'DIREITA', 'DIREITA', 'CIMA', 'CIMA', 'ESQUERDA', 'ESQUERDA', 'BAIXO', 'BAIXO', 'DIREITA', 'DIREITA', 'CIMA', 'CIMA', 'ESQUERDA', 'ESQUERDA', 'BAIXO', 'DIREITA', 'DIREITA', 'CIMA', 'ESQUERDA', 'ESQUERDA', 'BAIXO', 'DIREITA', 'DIREITA', 'BAIXO', 'ESQUERDA', 'ESQUERDA', 'CIMA', 'CIMA', 'DIREITA', 'DIREITA', 'BAIXO', 'BAIXO', 'ESQUERDA', 'ESQUERDA', 'CIMA', 'CIMA', 'DIREITA', 'DIREITA', 'BAIXO', 'BAIXO', 'ESQUERDA', 'ESQUERDA', 'CIMA', 'CIMA', 'DIREITA', 'DIREITA', 'BAIXO', 'ESQUERDA', 'ESQUERDA', 'CIMA', 'DIREITA', 'DIREITA', 'BAIXO', 'BAIXO', 'ESQUERDA', 'CIMA', 'ESQUERDA', 'BAIXO', 'DIREITA', 'DIREITA', 'CIMA', 'CIMA', 'ESQUERDA', 'ESQUERDA', 'BAIXO', 'DIREITA', 'BAIXO', 'ESQUERDA', 'CIMA', 'DIREITA', 'DIREITA', 'CIMA', 'ESQUERDA', 'ESQUERDA', 'BAIXO', 'BAIXO', 'DIREITA', 'DIREITA', 'CIMA', 'CIMA', 'ESQUERDA', 'ESQUERDA', 'BAIXO', 'BAIXO', 'DIREITA', 'DIREITA', 'CIMA', 'CIMA', 'ESQUERDA', 'ESQUERDA', 'BAIXO', 'BAIXO', 'DIREITA', 'DIREITA', 'CIMA', 'CIMA', 'ESQUERDA', 'ESQUERDA', 'BAIXO', 'BAIXO', 'DIREITA', 'DIREITA', 'CIMA', 'CIMA', 'ESQUERDA', 'ESQUERDA', 'BAIXO', 'BAIXO', 'DIREITA', 'DIREITA', 'CIMA', 'ESQUERDA', 'BAIXO', 'ESQUERDA', 'CIMA', 'DIREITA', 'DIREITA', 'BAIXO', 'ESQUERDA', 'ESQUERDA', 'CIMA', 'CIMA', 'DIREITA', 'DIREITA', 'BAIXO', 'BAIXO', 'ESQUERDA', 'ESQUERDA', 'CIMA', 'CIMA', 'DIREITA', 'DIREITA', 'BAIXO', 'ESQUERDA', 'ESQUERDA', 'BAIXO', 'DIREITA', 'DIREITA', 'CIMA', 'CIMA', 'ESQUERDA', 'ESQUERDA', 'BAIXO', 'BAIXO', 'DIREITA', 'DIREITA', 'CIMA', 'CIMA', 'ESQUERDA', 'ESQUERDA', 'BAIXO', 'BAIXO', 'DIREITA', 'DIREITA', 'CIMA', 'CIMA', 'ESQUERDA', 'BAIXO', 'DIREITA', 'CIMA', 'ESQUERDA', 'ESQUERDA', 'BAIXO', 'BAIXO', 'DIREITA', 'DIREITA', 'CIMA', 'CIMA', 'ESQUERDA', 'ESQUERDA', 'BAIXO', 'BAIXO', 'DIREITA', 'DIREITA', 'CIMA', 'CIMA', 'ESQUERDA', 'ESQUERDA', 'BAIXO', 'BAIXO', 'DIREITA', 'DIREITA', 'CIMA', 'CIMA', 'ESQUERDA', 'BAIXO', 'ESQUERDA', 'BAIXO', 'DIREITA', 'DIREITA', 'CIMA', 'CIMA', 'ESQUERDA', 'ESQUERDA', 'BAIXO', 'BAIXO', 'DIREITA', 'DIREITA', 'CIMA', 'ESQUERDA', 'CIMA', 'ESQUERDA', 'BAIXO', 'BAIXO', 'DIREITA', 'CIMA', 'DIREITA', 'BAIXO', 'ESQUERDA', 'ESQUERDA', 'CIMA', 'CIMA', 'DIREITA', 'DIREITA', 'BAIXO', 'ESQUERDA', 'BAIXO', 'DIREITA', 'CIMA', 'CIMA', 'ESQUERDA', 'BAIXO', 'DIREITA', 'CIMA', 'ESQUERDA', 'ESQUERDA', 'BAIXO', 'BAIXO', 'DIREITA', 'DIREITA', 'CIMA', 'CIMA', 'ESQUERDA', 'ESQUERDA', 'BAIXO', 'BAIXO', 'DIREITA', 'DIREITA', 'CIMA', 'CIMA', 'ESQUERDA', 'BAIXO', 'ESQUERDA', 'BAIXO', 'DIREITA', 'DIREITA', 'CIMA', 'CIMA', 'ESQUERDA', 'ESQUERDA', 'BAIXO', 'BAIXO', 'DIREITA', 'DIREITA', 'CIMA', 'CIMA', 'ESQUERDA', 'BAIXO', 'DIREITA', 'CIMA', 'ESQUERDA', 'ESQUERDA', 'BAIXO', 'BAIXO', 'DIREITA', 'DIREITA', 'CIMA', 'CIMA', 'ESQUERDA', 'ESQUERDA', 'BAIXO', 'BAIXO', 'DIREITA', 'DIREITA', 'CIMA', 'CIMA', 'ESQUERDA', 'ESQUERDA', 'BAIXO', 'BAIXO', 'DIREITA', 'CIMA', 'ESQUERDA', 'BAIXO', 'DIREITA', 'DIREITA', 'CIMA', 'CIMA', 'ESQUERDA', 'BAIXO', 'DIREITA', 'BAIXO', 'ESQUERDA', 'ESQUERDA', 'CIMA', 'CIMA', 'DIREITA', 'BAIXO', 'DIREITA', 'BAIXO', 'ESQUERDA', 'ESQUERDA', 'CIMA', 'CIMA', 'DIREITA', 'DIREITA', 'BAIXO', 'BAIXO', 'ESQUERDA', 'CIMA', 'ESQUERDA', 'CIMA', 'DIREITA', 'DIREITA', 'BAIXO', 'BAIXO', 'ESQUERDA', 'ESQUERDA', 'CIMA', 'CIMA', 'DIREITA', 'BAIXO', 'DIREITA', 'BAIXO', 'ESQUERDA', 'CIMA', 'DIREITA', 'BAIXO', 'ESQUERDA', 'ESQUERDA', 'CIMA', 'CIMA', 'DIREITA', 'DIREITA', 'BAIXO', 'BAIXO', 'ESQUERDA', 'ESQUERDA', 'CIMA', 'DIREITA', 'DIREITA', 'CIMA', 'ESQUERDA', 'ESQUERDA', 'BAIXO', 'BAIXO', 'DIREITA', 'DIREITA', 'CIMA', 'ESQUERDA', 'ESQUERDA', 'CIMA', 'DIREITA', 'BAIXO', 'DIREITA', 'BAIXO', 'ESQUERDA', 'ESQUERDA', 'CIMA', 'DIREITA', 'BAIXO', 'DIREITA', 'CIMA', 'CIMA', 'ESQUERDA', 'ESQUERDA', 'BAIXO', 'DIREITA', 'BAIXO', 'ESQUERDA', 'CIMA', 'DIREITA', 'DIREITA', 'BAIXO', 'ESQUERDA', 'ESQUERDA', 'CIMA', 'DIREITA', 'CIMA', 'ESQUERDA', 'BAIXO', 'BAIXO', 'DIREITA', 'DIREITA', 'CIMA', 'CIMA', 'ESQUERDA', 'ESQUERDA', 'BAIXO', 'BAIXO', 'DIREITA', 'DIREITA', 'CIMA', 'CIMA', 'ESQUERDA', 'ESQUERDA', 'BAIXO', 'BAIXO', 'DIREITA', 'DIREITA', 'CIMA', 'CIMA', 'ESQUERDA', 'ESQUERDA', 'BAIXO', 'BAIXO', 'DIREITA', 'DIREITA', 'CIMA', 'ESQUERDA', 'BAIXO', 'ESQUERDA', 'CIMA', 'CIMA', 'DIREITA', 'DIREITA', 'BAIXO', 'BAIXO', 'ESQUERDA', 'CIMA', 'DIREITA', 'BAIXO', 'ESQUERDA', 'ESQUERDA', 'CIMA', 'CIMA', 'DIREITA', 'DIREITA', 'BAIXO', 'BAIXO', 'ESQUERDA', 'ESQUERDA', 'CIMA', 'CIMA', 'DIREITA', 'DIREITA', 'BAIXO', 'BAIXO', 'ESQUERDA', 'ESQUERDA', 'CIMA', 'CIMA', 'DIREITA', 'DIREITA', 'BAIXO', 'BAIXO', 'ESQUERDA', 'ESQUERDA', 'CIMA', 'CIMA', 'DIREITA', 'DIREITA', 'BAIXO', 'BAIXO', 'ESQUERDA', 'ESQUERDA', 'CIMA', 'CIMA', 'DIREITA', 'BAIXO', 'DIREITA', 'BAIXO', 'ESQUERDA', 'ESQUERDA', 'CIMA', 'CIMA', 'DIREITA', 'DIREITA', 'BAIXO', 'BAIXO', 'ESQUERDA', 'ESQUERDA', 'CIMA', 'CIMA', 'DIREITA', 'DIREITA', 'BAIXO', 'BAIXO', 'ESQUERDA', 'ESQUERDA', 'CIMA', 'CIMA', 'DIREITA', 'BAIXO', 'ESQUERDA', 'CIMA', 'DIREITA', 'DIREITA', 'BAIXO', 'BAIXO', 'ESQUERDA', 'ESQUERDA', 'CIMA', 'CIMA', 'DIREITA', 'DIREITA', 'BAIXO', 'BAIXO', 'ESQUERDA', 'ESQUERDA', 'CIMA', 'DIREITA', 'CIMA', 'DIREITA', 'BAIXO', 'BAIXO', 'ESQUERDA', 'CIMA', 'CIMA', 'ESQUERDA', 'BAIXO', 'DIREITA', 'DIREITA', 'CIMA', 'ESQUERDA', 'ESQUERDA', 'BAIXO', 'BAIXO', 'DIREITA', 'CIMA', 'CIMA', 'DIREITA', 'BAIXO', 'BAIXO', 'ESQUERDA', 'ESQUERDA', 'CIMA', 'DIREITA', 'CIMA', 'DIREITA', 'BAIXO', 'BAIXO', 'ESQUERDA', 'ESQUERDA', 'CIMA', 'DIREITA', 'CIMA', 'ESQUERDA', 'BAIXO', 'BAIXO', 'DIREITA', 'DIREITA', 'CIMA', 'CIMA', 'ESQUERDA', 'BAIXO', 'DIREITA', 'BAIXO', 'ESQUERDA', 'ESQUERDA', 'CIMA', 'DIREITA', 'DIREITA', 'BAIXO', 'ESQUERDA', 'ESQUERDA', 'CIMA', 'CIMA', 'DIREITA', 'DIREITA', 'BAIXO', 'BAIXO', 'ESQUERDA', 'ESQUERDA', 'CIMA', 'CIMA', 'DIREITA', 'DIREITA', 'BAIXO', 'BAIXO', 'ESQUERDA', 'ESQUERDA', 'CIMA', 'CIMA', 'DIREITA', 'DIREITA', 'BAIXO', 'ESQUERDA', 'ESQUERDA', 'BAIXO', 'DIREITA', 'DIREITA', 'CIMA', 'CIMA', 'ESQUERDA', 'ESQUERDA', 'BAIXO', 'BAIXO', 'DIREITA', 'DIREITA', 'CIMA', 'CIMA', 'ESQUERDA', 'ESQUERDA', 'BAIXO', 'BAIXO', 'DIREITA', 'DIREITA', 'CIMA', 'CIMA', 'ESQUERDA', 'ESQUERDA', 'BAIXO', 'BAIXO', 'DIREITA', 'DIREITA', 'CIMA', 'ESQUERDA', 'CIMA', 'ESQUERDA', 'BAIXO', 'BAIXO', 'DIREITA', 'DIREITA', 'CIMA', 'CIMA', 'ESQUERDA', 'ESQUERDA', 'BAIXO', 'DIREITA', 'CIMA', 'ESQUERDA', 'BAIXO', 'BAIXO', 'DIREITA', 'DIREITA', 'CIMA', 'ESQUERDA', 'BAIXO', 'ESQUERDA', 'CIMA', 'CIMA', 'DIREITA', 'BAIXO', 'BAIXO', 'ESQUERDA', 'CIMA', 'CIMA', 'DIREITA', 'BAIXO', 'ESQUERDA', 'BAIXO', 'DIREITA', 'DIREITA', 'CIMA', 'CIMA', 'ESQUERDA', 'ESQUERDA', 'BAIXO', 'DIREITA', 'CIMA', 'DIREITA', 'BAIXO', 'BAIXO', 'ESQUERDA', 'CIMA']\n",
      "A resolução tem  78278  passos.\n",
      "----------\n",
      "Tabuleiro inicial:\n",
      "012\n",
      "783\n",
      "654\n",
      "----------\n",
      "Tabuleiro final:\n",
      "123\n",
      "804\n",
      "765\n",
      "----------\n",
      "Total de vértices visitados: 118647\n",
      "Profundidade da resposta: 78278\n",
      "Profundidade máxima alcancada: 80323\n",
      "Largura máxima alcancada: 27604\n"
     ]
    }
   ],
   "source": [
    "busca_gulosa(estado_inicial, '1')\n",
    "resultados()"
   ]
  },
  {
   "source": [
    "É, não foi tão bem...\n",
    "\n",
    "E com a heurística de distância Manhattan?"
   ],
   "cell_type": "markdown",
   "metadata": {}
  },
  {
   "cell_type": "code",
   "execution_count": 17,
   "metadata": {
    "tags": [
     "outputPrepend"
    ]
   },
   "outputs": [
    {
     "output_type": "stream",
     "name": "stdout",
     "text": [
      "EITA', 'DIREITA', 'CIMA', 'CIMA', 'ESQUERDA', 'BAIXO', 'BAIXO', 'DIREITA', 'CIMA', 'ESQUERDA', 'ESQUERDA', 'BAIXO', 'DIREITA', 'CIMA', 'DIREITA', 'BAIXO', 'ESQUERDA', 'CIMA', 'ESQUERDA', 'BAIXO', 'DIREITA', 'CIMA', 'CIMA', 'DIREITA', 'BAIXO', 'BAIXO', 'ESQUERDA', 'ESQUERDA', 'CIMA', 'DIREITA', 'BAIXO', 'DIREITA', 'CIMA', 'ESQUERDA', 'CIMA', 'ESQUERDA', 'BAIXO', 'BAIXO', 'DIREITA', 'DIREITA', 'CIMA', 'CIMA', 'ESQUERDA', 'BAIXO', 'ESQUERDA', 'BAIXO', 'DIREITA', 'DIREITA', 'CIMA', 'CIMA', 'ESQUERDA', 'BAIXO', 'DIREITA', 'BAIXO', 'ESQUERDA', 'ESQUERDA', 'CIMA', 'DIREITA', 'BAIXO', 'DIREITA', 'CIMA', 'ESQUERDA', 'BAIXO', 'DIREITA', 'CIMA', 'ESQUERDA', 'CIMA', 'ESQUERDA', 'BAIXO', 'BAIXO', 'DIREITA', 'CIMA', 'CIMA', 'ESQUERDA', 'BAIXO', 'BAIXO', 'DIREITA', 'DIREITA', 'CIMA', 'CIMA', 'ESQUERDA', 'BAIXO', 'DIREITA', 'BAIXO', 'ESQUERDA', 'CIMA', 'DIREITA', 'BAIXO', 'ESQUERDA', 'ESQUERDA', 'CIMA', 'CIMA', 'DIREITA', 'DIREITA', 'BAIXO', 'ESQUERDA', 'ESQUERDA', 'BAIXO', 'DIREITA', 'DIREITA', 'CIMA', 'ESQUERDA', 'BAIXO', 'DIREITA', 'CIMA', 'ESQUERDA', 'CIMA', 'DIREITA', 'BAIXO', 'BAIXO', 'ESQUERDA', 'CIMA', 'DIREITA', 'BAIXO', 'ESQUERDA', 'ESQUERDA', 'CIMA', 'DIREITA', 'BAIXO', 'ESQUERDA', 'CIMA', 'DIREITA', 'DIREITA', 'BAIXO', 'ESQUERDA', 'CIMA', 'DIREITA', 'BAIXO', 'ESQUERDA', 'ESQUERDA', 'CIMA', 'CIMA', 'DIREITA', 'BAIXO', 'ESQUERDA', 'BAIXO', 'DIREITA', 'DIREITA', 'CIMA', 'CIMA', 'ESQUERDA', 'BAIXO', 'DIREITA', 'BAIXO', 'ESQUERDA', 'ESQUERDA', 'CIMA', 'CIMA', 'DIREITA', 'DIREITA', 'BAIXO', 'ESQUERDA', 'BAIXO', 'ESQUERDA', 'CIMA', 'DIREITA', 'CIMA', 'DIREITA', 'BAIXO', 'ESQUERDA', 'ESQUERDA', 'BAIXO', 'DIREITA', 'DIREITA', 'CIMA', 'ESQUERDA', 'BAIXO', 'ESQUERDA', 'CIMA', 'DIREITA', 'BAIXO', 'ESQUERDA', 'CIMA', 'DIREITA', 'DIREITA', 'BAIXO', 'ESQUERDA', 'ESQUERDA', 'CIMA', 'DIREITA', 'DIREITA', 'BAIXO', 'ESQUERDA', 'ESQUERDA', 'CIMA', 'DIREITA', 'CIMA', 'DIREITA', 'BAIXO', 'ESQUERDA', 'CIMA', 'DIREITA', 'BAIXO', 'BAIXO', 'ESQUERDA', 'CIMA', 'DIREITA', 'BAIXO', 'ESQUERDA', 'CIMA', 'DIREITA', 'BAIXO', 'ESQUERDA', 'ESQUERDA', 'CIMA', 'CIMA', 'DIREITA', 'BAIXO', 'ESQUERDA', 'CIMA', 'DIREITA', 'BAIXO', 'ESQUERDA', 'BAIXO', 'DIREITA', 'CIMA', 'CIMA', 'DIREITA', 'BAIXO', 'ESQUERDA', 'ESQUERDA', 'CIMA', 'DIREITA', 'DIREITA', 'BAIXO', 'ESQUERDA', 'CIMA', 'DIREITA', 'BAIXO', 'ESQUERDA', 'ESQUERDA', 'CIMA', 'DIREITA', 'DIREITA', 'BAIXO', 'ESQUERDA', 'ESQUERDA', 'CIMA', 'DIREITA', 'BAIXO', 'ESQUERDA', 'CIMA', 'DIREITA', 'DIREITA', 'BAIXO', 'ESQUERDA', 'CIMA', 'DIREITA', 'BAIXO', 'ESQUERDA', 'ESQUERDA', 'CIMA', 'DIREITA', 'DIREITA', 'BAIXO', 'ESQUERDA', 'BAIXO', 'ESQUERDA', 'CIMA', 'DIREITA', 'BAIXO', 'ESQUERDA', 'CIMA', 'DIREITA', 'DIREITA', 'BAIXO', 'ESQUERDA', 'ESQUERDA', 'CIMA', 'DIREITA', 'BAIXO', 'DIREITA', 'CIMA', 'ESQUERDA', 'ESQUERDA', 'CIMA', 'DIREITA', 'DIREITA', 'BAIXO', 'ESQUERDA', 'CIMA', 'DIREITA', 'BAIXO', 'BAIXO', 'ESQUERDA', 'CIMA', 'DIREITA', 'BAIXO', 'ESQUERDA', 'CIMA', 'ESQUERDA', 'CIMA', 'DIREITA', 'DIREITA', 'BAIXO', 'ESQUERDA', 'BAIXO', 'DIREITA', 'CIMA', 'ESQUERDA', 'BAIXO', 'DIREITA', 'CIMA', 'ESQUERDA', 'CIMA', 'DIREITA', 'BAIXO', 'ESQUERDA', 'ESQUERDA', 'BAIXO', 'DIREITA', 'CIMA', 'ESQUERDA', 'BAIXO', 'DIREITA', 'CIMA', 'ESQUERDA', 'CIMA', 'DIREITA', 'DIREITA', 'BAIXO', 'ESQUERDA', 'CIMA', 'DIREITA', 'BAIXO', 'ESQUERDA', 'BAIXO', 'ESQUERDA', 'CIMA', 'DIREITA', 'BAIXO', 'ESQUERDA', 'CIMA', 'CIMA', 'DIREITA', 'BAIXO', 'DIREITA', 'BAIXO', 'ESQUERDA', 'CIMA', 'CIMA', 'ESQUERDA', 'BAIXO', 'DIREITA', 'BAIXO', 'DIREITA', 'CIMA', 'CIMA', 'ESQUERDA', 'ESQUERDA', 'BAIXO', 'DIREITA', 'DIREITA', 'CIMA', 'ESQUERDA', 'ESQUERDA', 'BAIXO', 'BAIXO', 'DIREITA', 'CIMA', 'DIREITA', 'BAIXO', 'ESQUERDA', 'ESQUERDA', 'CIMA', 'DIREITA', 'DIREITA', 'BAIXO', 'ESQUERDA', 'ESQUERDA', 'CIMA', 'DIREITA', 'BAIXO', 'ESQUERDA', 'CIMA', 'DIREITA', 'DIREITA', 'BAIXO', 'ESQUERDA', 'CIMA', 'DIREITA', 'BAIXO', 'ESQUERDA', 'ESQUERDA', 'CIMA', 'DIREITA', 'BAIXO', 'DIREITA', 'CIMA', 'ESQUERDA', 'CIMA', 'ESQUERDA', 'BAIXO', 'BAIXO', 'DIREITA', 'DIREITA', 'CIMA', 'CIMA', 'ESQUERDA', 'ESQUERDA', 'BAIXO', 'DIREITA', 'BAIXO', 'DIREITA', 'CIMA', 'ESQUERDA', 'CIMA', 'DIREITA', 'BAIXO', 'BAIXO', 'ESQUERDA', 'ESQUERDA', 'CIMA', 'DIREITA', 'CIMA', 'DIREITA', 'BAIXO', 'ESQUERDA', 'CIMA', 'DIREITA', 'BAIXO', 'ESQUERDA', 'CIMA', 'ESQUERDA', 'BAIXO', 'BAIXO', 'DIREITA', 'CIMA', 'ESQUERDA', 'CIMA', 'DIREITA', 'DIREITA', 'BAIXO', 'ESQUERDA', 'ESQUERDA', 'CIMA', 'DIREITA', 'DIREITA', 'BAIXO', 'BAIXO', 'ESQUERDA', 'ESQUERDA', 'CIMA', 'DIREITA', 'BAIXO', 'ESQUERDA', 'CIMA', 'DIREITA', 'DIREITA', 'BAIXO', 'ESQUERDA', 'CIMA', 'DIREITA', 'CIMA', 'ESQUERDA', 'BAIXO', 'BAIXO', 'ESQUERDA', 'CIMA', 'DIREITA', 'DIREITA', 'CIMA', 'ESQUERDA', 'ESQUERDA', 'BAIXO', 'DIREITA', 'DIREITA', 'CIMA', 'ESQUERDA', 'BAIXO', 'DIREITA', 'CIMA', 'ESQUERDA', 'BAIXO', 'BAIXO', 'ESQUERDA', 'CIMA', 'CIMA', 'DIREITA', 'BAIXO', 'BAIXO', 'ESQUERDA', 'CIMA', 'DIREITA', 'BAIXO', 'DIREITA', 'CIMA', 'CIMA', 'ESQUERDA', 'ESQUERDA', 'BAIXO', 'BAIXO', 'DIREITA', 'CIMA', 'ESQUERDA', 'CIMA', 'DIREITA', 'BAIXO', 'DIREITA', 'CIMA', 'ESQUERDA', 'BAIXO', 'ESQUERDA', 'BAIXO', 'DIREITA', 'DIREITA', 'CIMA', 'ESQUERDA', 'BAIXO', 'DIREITA', 'CIMA', 'ESQUERDA', 'ESQUERDA', 'CIMA', 'DIREITA', 'DIREITA', 'BAIXO', 'BAIXO', 'ESQUERDA', 'ESQUERDA', 'CIMA', 'DIREITA', 'BAIXO', 'ESQUERDA', 'CIMA', 'DIREITA', 'BAIXO', 'ESQUERDA', 'CIMA', 'CIMA', 'DIREITA', 'BAIXO', 'ESQUERDA', 'BAIXO', 'DIREITA', 'DIREITA', 'CIMA', 'CIMA', 'ESQUERDA', 'ESQUERDA', 'BAIXO', 'DIREITA', 'BAIXO', 'DIREITA', 'CIMA', 'CIMA', 'ESQUERDA', 'BAIXO', 'DIREITA', 'BAIXO', 'ESQUERDA', 'CIMA', 'ESQUERDA', 'CIMA', 'DIREITA', 'DIREITA', 'BAIXO', 'BAIXO', 'ESQUERDA', 'CIMA', 'ESQUERDA', 'CIMA', 'DIREITA', 'BAIXO', 'DIREITA', 'BAIXO', 'ESQUERDA', 'ESQUERDA', 'CIMA', 'DIREITA', 'DIREITA', 'CIMA', 'ESQUERDA', 'BAIXO', 'DIREITA', 'BAIXO', 'ESQUERDA', 'CIMA', 'ESQUERDA', 'BAIXO', 'DIREITA', 'CIMA', 'ESQUERDA', 'BAIXO', 'DIREITA', 'DIREITA', 'CIMA', 'CIMA', 'ESQUERDA', 'ESQUERDA', 'BAIXO', 'BAIXO', 'DIREITA', 'CIMA', 'DIREITA', 'CIMA', 'ESQUERDA', 'ESQUERDA', 'BAIXO', 'DIREITA', 'CIMA', 'DIREITA', 'BAIXO', 'ESQUERDA', 'CIMA', 'DIREITA', 'BAIXO', 'ESQUERDA', 'ESQUERDA', 'BAIXO', 'DIREITA', 'CIMA', 'CIMA', 'ESQUERDA', 'BAIXO', 'DIREITA', 'CIMA', 'DIREITA', 'BAIXO', 'BAIXO', 'ESQUERDA', 'CIMA', 'ESQUERDA', 'CIMA', 'DIREITA', 'BAIXO', 'DIREITA', 'BAIXO', 'ESQUERDA', 'ESQUERDA', 'CIMA', 'CIMA', 'DIREITA', 'DIREITA', 'BAIXO', 'ESQUERDA', 'ESQUERDA', 'CIMA', 'DIREITA', 'DIREITA', 'BAIXO', 'ESQUERDA', 'CIMA', 'ESQUERDA', 'BAIXO', 'DIREITA', 'DIREITA', 'CIMA', 'ESQUERDA', 'ESQUERDA', 'BAIXO', 'DIREITA', 'BAIXO', 'DIREITA', 'CIMA', 'CIMA', 'ESQUERDA', 'BAIXO', 'ESQUERDA', 'BAIXO', 'DIREITA', 'DIREITA', 'CIMA', 'CIMA', 'ESQUERDA', 'BAIXO', 'ESQUERDA', 'BAIXO', 'DIREITA', 'DIREITA', 'CIMA', 'ESQUERDA', 'BAIXO', 'DIREITA', 'CIMA', 'ESQUERDA', 'CIMA', 'DIREITA', 'BAIXO', 'BAIXO', 'ESQUERDA', 'CIMA', 'DIREITA', 'BAIXO', 'ESQUERDA', 'ESQUERDA', 'CIMA', 'DIREITA', 'DIREITA', 'BAIXO', 'ESQUERDA', 'ESQUERDA', 'CIMA', 'DIREITA', 'DIREITA', 'CIMA', 'ESQUERDA', 'BAIXO', 'ESQUERDA', 'BAIXO', 'DIREITA', 'CIMA', 'ESQUERDA', 'BAIXO', 'DIREITA', 'CIMA', 'CIMA', 'DIREITA', 'BAIXO', 'ESQUERDA', 'ESQUERDA', 'CIMA', 'DIREITA', 'DIREITA', 'BAIXO', 'ESQUERDA', 'CIMA', 'DIREITA', 'BAIXO', 'ESQUERDA', 'ESQUERDA', 'CIMA', 'DIREITA', 'BAIXO', 'BAIXO', 'ESQUERDA', 'CIMA', 'DIREITA', 'DIREITA', 'BAIXO', 'ESQUERDA', 'CIMA', 'CIMA', 'ESQUERDA', 'BAIXO', 'DIREITA', 'BAIXO', 'DIREITA', 'CIMA', 'ESQUERDA', 'CIMA', 'DIREITA', 'BAIXO', 'ESQUERDA', 'BAIXO', 'ESQUERDA', 'CIMA', 'CIMA', 'DIREITA', 'BAIXO', 'DIREITA', 'BAIXO', 'ESQUERDA', 'ESQUERDA', 'CIMA', 'DIREITA', 'CIMA', 'ESQUERDA', 'BAIXO', 'DIREITA', 'CIMA', 'ESQUERDA', 'BAIXO', 'DIREITA', 'DIREITA', 'BAIXO', 'ESQUERDA', 'CIMA', 'DIREITA', 'BAIXO', 'ESQUERDA', 'ESQUERDA', 'CIMA', 'CIMA', 'DIREITA', 'DIREITA', 'BAIXO', 'BAIXO', 'ESQUERDA', 'ESQUERDA', 'CIMA', 'DIREITA', 'BAIXO', 'DIREITA', 'CIMA', 'CIMA', 'ESQUERDA', 'ESQUERDA', 'BAIXO', 'BAIXO', 'DIREITA', 'CIMA', 'CIMA', 'DIREITA', 'BAIXO', 'ESQUERDA', 'ESQUERDA', 'CIMA', 'DIREITA', 'DIREITA', 'BAIXO', 'BAIXO', 'ESQUERDA', 'CIMA', 'CIMA', 'ESQUERDA', 'BAIXO', 'BAIXO', 'DIREITA', 'CIMA', 'ESQUERDA', 'BAIXO', 'DIREITA', 'CIMA', 'CIMA', 'ESQUERDA', 'BAIXO', 'DIREITA', 'BAIXO', 'ESQUERDA', 'CIMA', 'DIREITA', 'CIMA', 'ESQUERDA', 'BAIXO', 'BAIXO', 'DIREITA', 'CIMA', 'ESQUERDA', 'CIMA', 'DIREITA', 'DIREITA', 'BAIXO', 'ESQUERDA', 'ESQUERDA', 'BAIXO', 'DIREITA', 'CIMA', 'DIREITA', 'BAIXO', 'ESQUERDA', 'ESQUERDA', 'CIMA', 'CIMA', 'DIREITA', 'BAIXO', 'BAIXO', 'ESQUERDA', 'CIMA', 'DIREITA', 'BAIXO', 'ESQUERDA', 'CIMA', 'CIMA', 'DIREITA', 'DIREITA', 'BAIXO', 'ESQUERDA', 'CIMA', 'DIREITA', 'BAIXO', 'ESQUERDA', 'ESQUERDA', 'CIMA', 'DIREITA', 'BAIXO', 'ESQUERDA', 'BAIXO', 'DIREITA', 'CIMA', 'DIREITA', 'BAIXO', 'ESQUERDA', 'CIMA', 'CIMA', 'DIREITA', 'BAIXO', 'ESQUERDA', 'BAIXO', 'ESQUERDA', 'CIMA', 'DIREITA', 'CIMA', 'DIREITA', 'BAIXO', 'ESQUERDA', 'BAIXO', 'ESQUERDA', 'CIMA', 'CIMA', 'DIREITA', 'BAIXO', 'BAIXO', 'ESQUERDA', 'CIMA', 'CIMA', 'DIREITA', 'DIREITA', 'BAIXO', 'ESQUERDA', 'CIMA', 'ESQUERDA', 'BAIXO', 'BAIXO', 'DIREITA', 'DIREITA', 'CIMA', 'ESQUERDA', 'BAIXO', 'DIREITA', 'CIMA', 'ESQUERDA', 'CIMA', 'DIREITA', 'BAIXO', 'ESQUERDA', 'ESQUERDA', 'CIMA', 'DIREITA', 'BAIXO', 'ESQUERDA', 'CIMA', 'DIREITA', 'BAIXO', 'DIREITA', 'BAIXO', 'ESQUERDA', 'ESQUERDA', 'CIMA', 'CIMA', 'DIREITA', 'BAIXO', 'DIREITA', 'BAIXO', 'ESQUERDA', 'CIMA', 'DIREITA', 'CIMA', 'ESQUERDA', 'BAIXO', 'BAIXO', 'DIREITA', 'CIMA', 'CIMA', 'ESQUERDA', 'BAIXO', 'DIREITA', 'BAIXO', 'ESQUERDA', 'CIMA', 'DIREITA', 'BAIXO', 'ESQUERDA', 'CIMA', 'CIMA', 'DIREITA', 'BAIXO', 'ESQUERDA', 'ESQUERDA', 'CIMA', 'DIREITA', 'DIREITA', 'BAIXO', 'BAIXO', 'ESQUERDA', 'CIMA', 'DIREITA', 'CIMA', 'ESQUERDA', 'BAIXO', 'DIREITA', 'CIMA', 'ESQUERDA', 'ESQUERDA', 'BAIXO', 'BAIXO', 'DIREITA', 'CIMA', 'ESQUERDA', 'CIMA', 'DIREITA', 'BAIXO', 'ESQUERDA', 'BAIXO', 'DIREITA', 'CIMA', 'DIREITA', 'BAIXO', 'ESQUERDA', 'CIMA', 'ESQUERDA', 'CIMA', 'DIREITA', 'BAIXO', 'DIREITA', 'BAIXO', 'ESQUERDA', 'CIMA', 'DIREITA', 'BAIXO', 'ESQUERDA', 'ESQUERDA', 'CIMA', 'CIMA', 'DIREITA', 'BAIXO', 'ESQUERDA', 'BAIXO', 'DIREITA', 'CIMA', 'ESQUERDA', 'BAIXO', 'DIREITA', 'CIMA', 'ESQUERDA', 'CIMA', 'DIREITA', 'BAIXO', 'DIREITA', 'BAIXO', 'ESQUERDA', 'CIMA', 'DIREITA', 'BAIXO', 'ESQUERDA', 'CIMA', 'CIMA', 'DIREITA', 'BAIXO', 'BAIXO', 'ESQUERDA', 'CIMA', 'CIMA', 'DIREITA', 'BAIXO', 'BAIXO', 'ESQUERDA', 'ESQUERDA', 'CIMA', 'CIMA', 'DIREITA', 'BAIXO', 'ESQUERDA', 'CIMA', 'DIREITA', 'DIREITA', 'BAIXO', 'BAIXO', 'ESQUERDA', 'CIMA', 'DIREITA', 'CIMA', 'ESQUERDA', 'BAIXO', 'BAIXO', 'DIREITA', 'CIMA', 'CIMA', 'ESQUERDA', 'BAIXO', 'ESQUERDA', 'BAIXO', 'DIREITA', 'DIREITA', 'CIMA', 'ESQUERDA', 'BAIXO', 'DIREITA', 'CIMA', 'CIMA', 'ESQUERDA', 'ESQUERDA', 'BAIXO', 'BAIXO', 'DIREITA', 'CIMA', 'CIMA', 'DIREITA', 'BAIXO', 'ESQUERDA', 'ESQUERDA', 'CIMA', 'DIREITA', 'BAIXO', 'ESQUERDA', 'CIMA', 'DIREITA', 'BAIXO', 'BAIXO', 'DIREITA', 'CIMA', 'ESQUERDA', 'ESQUERDA', 'CIMA', 'DIREITA', 'BAIXO', 'BAIXO', 'ESQUERDA', 'CIMA', 'DIREITA', 'DIREITA', 'BAIXO', 'ESQUERDA', 'CIMA', 'DIREITA', 'BAIXO', 'ESQUERDA', 'ESQUERDA', 'CIMA', 'DIREITA', 'BAIXO', 'ESQUERDA', 'CIMA', 'DIREITA', 'CIMA', 'ESQUERDA', 'BAIXO', 'DIREITA', 'BAIXO', 'ESQUERDA', 'CIMA', 'DIREITA', 'BAIXO', 'DIREITA', 'CIMA', 'ESQUERDA', 'BAIXO', 'ESQUERDA', 'CIMA', 'CIMA', 'DIREITA', 'DIREITA', 'BAIXO', 'BAIXO', 'ESQUERDA', 'CIMA', 'DIREITA', 'CIMA', 'ESQUERDA', 'BAIXO', 'ESQUERDA', 'CIMA', 'DIREITA', 'DIREITA', 'BAIXO', 'ESQUERDA', 'CIMA', 'ESQUERDA', 'BAIXO', 'DIREITA', 'DIREITA', 'CIMA', 'ESQUERDA', 'ESQUERDA', 'BAIXO', 'DIREITA', 'BAIXO', 'DIREITA', 'CIMA', 'CIMA', 'ESQUERDA', 'ESQUERDA', 'BAIXO', 'BAIXO', 'DIREITA', 'CIMA', 'DIREITA', 'CIMA', 'ESQUERDA', 'BAIXO', 'BAIXO', 'DIREITA', 'CIMA', 'ESQUERDA', 'ESQUERDA', 'CIMA', 'DIREITA', 'BAIXO', 'BAIXO', 'DIREITA', 'CIMA', 'ESQUERDA', 'CIMA', 'ESQUERDA', 'BAIXO', 'DIREITA', 'DIREITA', 'CIMA', 'ESQUERDA', 'ESQUERDA', 'BAIXO', 'BAIXO', 'DIREITA', 'CIMA', 'DIREITA', 'CIMA', 'ESQUERDA', 'BAIXO', 'ESQUERDA', 'BAIXO', 'DIREITA', 'CIMA', 'ESQUERDA', 'BAIXO', 'DIREITA', 'CIMA', 'CIMA', 'ESQUERDA', 'BAIXO', 'DIREITA', 'CIMA', 'DIREITA', 'BAIXO', 'BAIXO', 'ESQUERDA', 'CIMA', 'CIMA', 'ESQUERDA', 'BAIXO', 'DIREITA', 'DIREITA', 'CIMA', 'ESQUERDA', 'ESQUERDA', 'BAIXO', 'DIREITA', 'DIREITA', 'CIMA', 'ESQUERDA', 'BAIXO', 'DIREITA', 'CIMA', 'ESQUERDA', 'BAIXO', 'ESQUERDA', 'BAIXO', 'DIREITA', 'CIMA', 'ESQUERDA', 'BAIXO', 'DIREITA', 'DIREITA', 'CIMA', 'ESQUERDA', 'ESQUERDA', 'BAIXO', 'DIREITA', 'DIREITA', 'CIMA', 'ESQUERDA', 'ESQUERDA', 'BAIXO', 'DIREITA', 'DIREITA', 'CIMA', 'ESQUERDA', 'BAIXO', 'ESQUERDA', 'CIMA', 'DIREITA', 'DIREITA', 'BAIXO', 'ESQUERDA', 'CIMA', 'DIREITA', 'BAIXO', 'ESQUERDA', 'CIMA', 'DIREITA', 'CIMA', 'ESQUERDA', 'ESQUERDA', 'BAIXO', 'DIREITA', 'CIMA', 'ESQUERDA', 'BAIXO', 'DIREITA', 'CIMA', 'ESQUERDA', 'BAIXO', 'BAIXO', 'DIREITA', 'DIREITA', 'CIMA', 'CIMA', 'ESQUERDA', 'ESQUERDA', 'BAIXO', 'BAIXO', 'DIREITA', 'CIMA', 'DIREITA', 'BAIXO', 'ESQUERDA', 'CIMA', 'ESQUERDA', 'BAIXO', 'DIREITA', 'CIMA', 'CIMA', 'DIREITA', 'BAIXO', 'BAIXO', 'ESQUERDA', 'ESQUERDA', 'CIMA', 'CIMA', 'DIREITA', 'BAIXO', 'DIREITA', 'CIMA', 'ESQUERDA', 'ESQUERDA', 'BAIXO', 'DIREITA', 'DIREITA', 'CIMA', 'ESQUERDA', 'ESQUERDA', 'BAIXO', 'DIREITA', 'DIREITA', 'BAIXO', 'ESQUERDA', 'ESQUERDA', 'CIMA', 'DIREITA', 'CIMA', 'ESQUERDA', 'BAIXO', 'DIREITA', 'DIREITA', 'BAIXO', 'ESQUERDA', 'ESQUERDA', 'CIMA', 'DIREITA', 'DIREITA', 'BAIXO', 'ESQUERDA', 'CIMA', 'DIREITA', 'BAIXO', 'ESQUERDA', 'ESQUERDA', 'CIMA', 'DIREITA', 'BAIXO', 'DIREITA', 'CIMA', 'ESQUERDA', 'BAIXO', 'ESQUERDA', 'CIMA', 'DIREITA', 'CIMA', 'ESQUERDA', 'BAIXO', 'DIREITA', 'BAIXO', 'ESQUERDA', 'CIMA', 'CIMA', 'DIREITA', 'BAIXO', 'BAIXO', 'DIREITA', 'CIMA', 'ESQUERDA', 'BAIXO', 'DIREITA', 'CIMA', 'ESQUERDA', 'CIMA', 'ESQUERDA', 'BAIXO', 'BAIXO', 'DIREITA', 'CIMA', 'DIREITA', 'BAIXO', 'ESQUERDA', 'ESQUERDA', 'CIMA', 'DIREITA', 'DIREITA', 'BAIXO', 'ESQUERDA', 'CIMA', 'CIMA', 'ESQUERDA', 'BAIXO', 'DIREITA', 'BAIXO', 'DIREITA', 'CIMA', 'ESQUERDA', 'CIMA', 'ESQUERDA', 'BAIXO', 'BAIXO', 'DIREITA', 'DIREITA', 'CIMA', 'ESQUERDA', 'CIMA', 'DIREITA', 'BAIXO', 'BAIXO', 'ESQUERDA', 'CIMA', 'DIREITA', 'BAIXO', 'ESQUERDA', 'ESQUERDA', 'CIMA', 'DIREITA', 'BAIXO', 'ESQUERDA', 'CIMA', 'DIREITA', 'DIREITA', 'CIMA', 'ESQUERDA', 'BAIXO', 'DIREITA', 'BAIXO', 'ESQUERDA', 'CIMA', 'ESQUERDA', 'BAIXO', 'DIREITA', 'CIMA', 'CIMA', 'ESQUERDA', 'BAIXO', 'DIREITA', 'BAIXO', 'ESQUERDA', 'CIMA', 'DIREITA', 'CIMA', 'ESQUERDA', 'BAIXO', 'BAIXO', 'DIREITA', 'CIMA', 'ESQUERDA', 'CIMA', 'DIREITA', 'DIREITA', 'BAIXO', 'BAIXO', 'ESQUERDA', 'CIMA', 'DIREITA', 'CIMA', 'ESQUERDA', 'BAIXO', 'BAIXO', 'DIREITA', 'CIMA', 'ESQUERDA', 'BAIXO', 'ESQUERDA', 'CIMA', 'CIMA', 'DIREITA', 'BAIXO', 'DIREITA', 'BAIXO', 'ESQUERDA', 'CIMA', 'CIMA', 'DIREITA', 'BAIXO', 'ESQUERDA', 'ESQUERDA', 'BAIXO', 'DIREITA', 'CIMA', 'DIREITA', 'BAIXO', 'ESQUERDA', 'CIMA', 'DIREITA', 'CIMA', 'ESQUERDA', 'BAIXO', 'ESQUERDA', 'CIMA', 'DIREITA', 'BAIXO', 'BAIXO', 'ESQUERDA', 'CIMA', 'DIREITA', 'DIREITA', 'BAIXO', 'ESQUERDA', 'CIMA', 'DIREITA', 'BAIXO', 'ESQUERDA', 'CIMA', 'CIMA', 'ESQUERDA', 'BAIXO', 'DIREITA', 'BAIXO', 'DIREITA', 'CIMA', 'CIMA', 'ESQUERDA', 'BAIXO', 'DIREITA', 'CIMA', 'ESQUERDA', 'BAIXO', 'BAIXO', 'ESQUERDA', 'CIMA', 'CIMA', 'DIREITA', 'DIREITA', 'BAIXO', 'ESQUERDA', 'ESQUERDA', 'CIMA', 'DIREITA', 'BAIXO', 'DIREITA', 'CIMA', 'ESQUERDA', 'ESQUERDA', 'BAIXO', 'BAIXO', 'DIREITA', 'CIMA', 'CIMA', 'DIREITA', 'BAIXO', 'ESQUERDA', 'CIMA', 'ESQUERDA', 'BAIXO', 'DIREITA', 'DIREITA', 'CIMA', 'ESQUERDA', 'BAIXO', 'BAIXO', 'ESQUERDA', 'CIMA', 'CIMA', 'DIREITA', 'DIREITA', 'BAIXO', 'ESQUERDA', 'ESQUERDA', 'BAIXO', 'DIREITA', 'DIREITA', 'CIMA', 'CIMA', 'ESQUERDA', 'ESQUERDA', 'BAIXO', 'DIREITA', 'CIMA', 'DIREITA', 'BAIXO', 'BAIXO', 'ESQUERDA', 'ESQUERDA', 'CIMA', 'DIREITA', 'BAIXO', 'ESQUERDA', 'CIMA', 'DIREITA', 'BAIXO', 'ESQUERDA', 'CIMA', 'CIMA', 'DIREITA', 'DIREITA', 'BAIXO', 'BAIXO', 'ESQUERDA', 'ESQUERDA', 'CIMA', 'DIREITA', 'BAIXO', 'DIREITA', 'CIMA', 'ESQUERDA', 'BAIXO', 'DIREITA', 'CIMA', 'ESQUERDA', 'ESQUERDA', 'BAIXO', 'DIREITA', 'DIREITA', 'CIMA', 'CIMA', 'ESQUERDA', 'BAIXO', 'DIREITA', 'BAIXO', 'ESQUERDA', 'ESQUERDA', 'CIMA', 'CIMA', 'DIREITA', 'DIREITA', 'BAIXO', 'ESQUERDA', 'ESQUERDA', 'CIMA', 'DIREITA', 'BAIXO', 'DIREITA', 'CIMA', 'ESQUERDA', 'BAIXO', 'BAIXO', 'DIREITA', 'CIMA', 'ESQUERDA', 'ESQUERDA', 'BAIXO', 'DIREITA', 'DIREITA', 'CIMA', 'ESQUERDA', 'CIMA', 'ESQUERDA', 'BAIXO', 'DIREITA', 'BAIXO', 'DIREITA', 'CIMA', 'ESQUERDA', 'CIMA', 'ESQUERDA', 'BAIXO', 'BAIXO', 'DIREITA', 'DIREITA', 'CIMA', 'ESQUERDA', 'BAIXO', 'ESQUERDA', 'CIMA', 'DIREITA', 'CIMA', 'ESQUERDA', 'BAIXO', 'DIREITA', 'DIREITA', 'CIMA', 'ESQUERDA', 'BAIXO', 'DIREITA', 'BAIXO', 'ESQUERDA', 'CIMA', 'CIMA', 'DIREITA', 'BAIXO', 'ESQUERDA', 'BAIXO', 'DIREITA', 'CIMA', 'ESQUERDA', 'BAIXO', 'ESQUERDA', 'CIMA', 'DIREITA', 'CIMA', 'ESQUERDA', 'BAIXO', 'BAIXO', 'DIREITA', 'CIMA', 'ESQUERDA', 'CIMA', 'DIREITA', 'DIREITA', 'BAIXO', 'ESQUERDA', 'BAIXO', 'ESQUERDA', 'CIMA', 'CIMA', 'DIREITA', 'DIREITA', 'BAIXO', 'ESQUERDA', 'ESQUERDA', 'CIMA', 'DIREITA', 'BAIXO', 'ESQUERDA', 'CIMA', 'DIREITA', 'DIREITA', 'BAIXO', 'ESQUERDA', 'ESQUERDA', 'BAIXO', 'DIREITA', 'CIMA', 'DIREITA', 'BAIXO', 'ESQUERDA', 'CIMA', 'DIREITA', 'BAIXO', 'ESQUERDA', 'CIMA', 'DIREITA', 'CIMA', 'ESQUERDA', 'BAIXO', 'DIREITA', 'BAIXO', 'ESQUERDA', 'CIMA', 'DIREITA', 'BAIXO', 'ESQUERDA', 'ESQUERDA', 'CIMA', 'CIMA', 'DIREITA', 'DIREITA', 'BAIXO', 'ESQUERDA', 'CIMA', 'ESQUERDA', 'BAIXO', 'BAIXO', 'DIREITA', 'DIREITA', 'CIMA', 'CIMA', 'ESQUERDA', 'BAIXO', 'ESQUERDA', 'CIMA', 'DIREITA', 'DIREITA', 'BAIXO', 'ESQUERDA', 'BAIXO', 'DIREITA', 'CIMA', 'CIMA', 'ESQUERDA', 'BAIXO', 'DIREITA', 'CIMA', 'ESQUERDA', 'BAIXO', 'DIREITA', 'BAIXO', 'ESQUERDA', 'CIMA', 'ESQUERDA', 'CIMA', 'DIREITA', 'BAIXO', 'ESQUERDA', 'CIMA', 'DIREITA', 'BAIXO', 'BAIXO', 'DIREITA', 'CIMA', 'CIMA', 'ESQUERDA', 'BAIXO', 'DIREITA', 'BAIXO', 'ESQUERDA', 'CIMA', 'DIREITA', 'BAIXO', 'ESQUERDA', 'CIMA', 'DIREITA', 'CIMA', 'ESQUERDA', 'BAIXO', 'DIREITA', 'CIMA', 'ESQUERDA', 'ESQUERDA', 'BAIXO', 'DIREITA', 'CIMA', 'DIREITA', 'BAIXO', 'ESQUERDA', 'ESQUERDA', 'BAIXO', 'DIREITA', 'CIMA', 'ESQUERDA', 'BAIXO', 'DIREITA', 'CIMA', 'ESQUERDA', 'CIMA', 'DIREITA', 'DIREITA', 'BAIXO', 'BAIXO', 'ESQUERDA', 'CIMA', 'ESQUERDA', 'CIMA', 'DIREITA', 'BAIXO', 'DIREITA', 'CIMA', 'ESQUERDA', 'BAIXO', 'BAIXO', 'ESQUERDA', 'CIMA', 'DIREITA', 'BAIXO', 'ESQUERDA', 'CIMA', 'DIREITA', 'BAIXO', 'DIREITA', 'CIMA', 'CIMA', 'ESQUERDA', 'ESQUERDA', 'BAIXO', 'BAIXO', 'DIREITA', 'DIREITA', 'CIMA', 'ESQUERDA', 'BAIXO', 'ESQUERDA', 'CIMA', 'DIREITA', 'DIREITA', 'BAIXO', 'ESQUERDA', 'CIMA', 'DIREITA', 'CIMA', 'ESQUERDA', 'BAIXO', 'ESQUERDA', 'CIMA', 'DIREITA', 'DIREITA', 'BAIXO', 'BAIXO', 'ESQUERDA', 'ESQUERDA', 'CIMA', 'DIREITA', 'DIREITA', 'CIMA', 'ESQUERDA', 'ESQUERDA', 'BAIXO', 'BAIXO', 'DIREITA', 'CIMA', 'ESQUERDA', 'CIMA', 'DIREITA', 'DIREITA', 'BAIXO', 'BAIXO', 'ESQUERDA', 'ESQUERDA', 'CIMA', 'CIMA', 'DIREITA', 'BAIXO', 'ESQUERDA', 'BAIXO', 'DIREITA', 'DIREITA', 'CIMA', 'ESQUERDA', 'CIMA', 'DIREITA', 'BAIXO', 'ESQUERDA', 'BAIXO', 'DIREITA', 'CIMA', 'ESQUERDA', 'BAIXO', 'DIREITA', 'CIMA', 'ESQUERDA', 'CIMA', 'ESQUERDA', 'BAIXO', 'BAIXO', 'DIREITA', 'CIMA', 'ESQUERDA', 'BAIXO', 'DIREITA', 'CIMA', 'CIMA', 'DIREITA', 'BAIXO', 'ESQUERDA', 'ESQUERDA', 'BAIXO', 'DIREITA', 'DIREITA', 'CIMA', 'CIMA', 'ESQUERDA', 'BAIXO', 'DIREITA', 'BAIXO', 'ESQUERDA', 'ESQUERDA', 'CIMA', 'CIMA', 'DIREITA', 'DIREITA', 'BAIXO', 'BAIXO', 'ESQUERDA', 'CIMA', 'DIREITA', 'BAIXO', 'ESQUERDA', 'CIMA', 'DIREITA', 'BAIXO', 'ESQUERDA', 'ESQUERDA', 'CIMA', 'CIMA', 'DIREITA', 'BAIXO', 'BAIXO', 'DIREITA', 'CIMA', 'ESQUERDA', 'CIMA', 'ESQUERDA', 'BAIXO', 'BAIXO', 'DIREITA', 'CIMA']\n",
      "A resolução tem  71546  passos.\n",
      "----------\n",
      "Tabuleiro inicial:\n",
      "012\n",
      "783\n",
      "654\n",
      "----------\n",
      "Tabuleiro final:\n",
      "123\n",
      "804\n",
      "765\n",
      "----------\n",
      "Total de vértices visitados: 225493\n",
      "Profundidade da resposta: 71546\n",
      "Profundidade máxima alcancada: 80323\n",
      "Largura máxima alcancada: 46008\n"
     ]
    }
   ],
   "source": [
    "busca_gulosa(estado_inicial, '2')\n",
    "resultados()"
   ]
  },
  {
   "source": [
    "Parece que as buscas cegas levam a melhor!\n",
    "\n",
    "Por fim, de maneira didática, vimos como resolver um problema da vida real usando algoritmos de busca, a fundação dos sistemas inteligentes e da inteligência artificial."
   ],
   "cell_type": "markdown",
   "metadata": {}
  }
 ]
}